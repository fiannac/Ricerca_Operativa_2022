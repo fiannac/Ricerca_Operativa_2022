{
 "cells": [
  {
   "cell_type": "code",
   "execution_count": 1,
   "metadata": {},
   "outputs": [],
   "source": [
    "import numpy as np\n",
    "import os\n",
    "import matplotlib.pyplot as plt\n",
    "import random\n",
    "from random import randint\n",
    "from numba import jit\n",
    "from utility import *\n",
    "from tqdm import tqdm\n",
    "from sklearn.datasets import make_blobs"
   ]
  },
  {
   "cell_type": "markdown",
   "metadata": {},
   "source": [
    "Implementazione dell'algoritmo K-means:"
   ]
  },
  {
   "cell_type": "code",
   "execution_count": 2,
   "metadata": {},
   "outputs": [],
   "source": [
    "def k_means(points, K):\n",
    "    N = points.shape[0]\n",
    "    dimension = points.shape[1]\n",
    "    #inizializzazione dei centroidi in corrispondenza di K punti \n",
    "    centroids = np.zeros((K,dimension))\n",
    "    clusters = np.zeros(N)\n",
    "    choices = np.arange(N)\n",
    "    for i in range(K):\n",
    "        choice = np.random.randint(len(choices))\n",
    "        centroids[i] = points[choice].copy()#centroids_list[i]\n",
    "        choices = np.delete(choices, choice)\n",
    "    finito = False\n",
    "    iter = 0\n",
    "    while(finito == False):\n",
    "        for i in range(N):\n",
    "            dist = -1\n",
    "            centroid = -1\n",
    "            for c in range(K):\n",
    "                dist_c = np.linalg.norm(centroids[c]-points[i])\n",
    "                if(dist_c < dist or dist == -1):\n",
    "                    centroid = c\n",
    "                    dist = dist_c\n",
    "            clusters[i] = centroid        \n",
    "        old_centroids = centroids.copy()\n",
    "\n",
    "        for i in range(K): #calcolo nuovi centroidi\n",
    "            centroids[i] = np.zeros(dimension)\n",
    "            n_elem = 0\n",
    "            for j in range(N):\n",
    "                if clusters[j] == i:\n",
    "                    n_elem = n_elem+1\n",
    "                    centroids[i] = centroids[i] + points[j]\n",
    "            if(n_elem == 0):\n",
    "                centroids[i] = points[np.random.randint(len(choices))].copy()\n",
    "            else:\n",
    "                centroids[i] = centroids[i] / n_elem\n",
    "\n",
    "        iter = iter + 1\n",
    "        if((old_centroids == centroids).all()):#criterio di arresto\n",
    "            finito = True\n",
    "                \n",
    "    return clusters"
   ]
  },
  {
   "cell_type": "markdown",
   "metadata": {},
   "source": [
    "Creazione di un'istanza di esempio con 500 punti in R^2 e 5 cluster "
   ]
  },
  {
   "cell_type": "code",
   "execution_count": null,
   "metadata": {},
   "outputs": [],
   "source": [
    "points, centroids = make_blobs(n_samples=500, centers=5, n_features=2, random_state=2)\n",
    "\n",
    "N = len(points)\n",
    "K = 5\n",
    "\n",
    "sol = k_means(points, K)\n",
    "\n",
    "print(\"{:.5E}\".format(squared_inner_distance(sol, points, K)))#mostra soltanto 5 cifre significative"
   ]
  },
  {
   "cell_type": "code",
   "execution_count": null,
   "metadata": {},
   "outputs": [],
   "source": [
    "printR2sol(points, sol, K)"
   ]
  },
  {
   "cell_type": "code",
   "execution_count": 3,
   "metadata": {},
   "outputs": [
    {
     "name": "stderr",
     "output_type": "stream",
     "text": [
      "100%|██████████| 12/12 [24:36<00:00, 123.01s/it]\n"
     ]
    }
   ],
   "source": [
    "#testiamo il kmeans sulle 12 istanze di test:\n",
    "n_points = [500,1000,1000,1000,1000,1000,1500,1500,2000,3000,5000,10000]\n",
    "n_clusters = [5,2,4,5,6,7,5,10,5,5,5,10]\n",
    "dim_points = [32,32,32,32,20,20,18,18,18,16,16,16]\n",
   "cell_type": "markdown",
   "metadata": {},
   "source": [
    "Testing dell'algoritmo su 12 istanze di prova"
   ]
  },
  {
   "cell_type": "code",
   "execution_count": null,
   "metadata": {},
   "outputs": [],
   "source": [
    "n_points = [500,100,200,500,1400,1000,400,700,300,800,5000,10000]\n",
    "n_clusters = [7,4,3,2,3,2,4,5,4,6,4,5]\n",
    "dim_points = [32,16,24,10,20,16,12,20,64,32,3,3]\n",
    "\n",
    "vals = []\n",
    "\n",
    "for test in tqdm(range(1,13)):\n",
    "    dirname = os.path.dirname(\"__file__\")\n",
    "    filename = os.path.join(dirname, f'./benchmark/benchmark{test}.txt')\n",
    "    points = load_points(filename)\n",
    "    N = len(points)\n",
    "    K = n_clusters[test-1]\n",
    "    best_val = -1\n",
    "    for i in range(20): \n",
    "        sol = k_means(points, K)\n",
    "        val = squared_inner_distance(sol, points, K)\n",
    "        if(best_val == -1 or best_val > val):\n",
    "            best_val = val\n",
    "    vals.append(val)\n",
    "\n",
    "\n",
    "with open(\"risultatiKMEANS.txt\", 'w') as file:\n",
    "    file.write(\"K-means:\\n\")\n",
    "    file.write(str(vals))"
   ]
  },
  {
   "cell_type": "code",
   "execution_count": 4,
   "metadata": {},
   "outputs": [
    {
     "name": "stdout",
     "output_type": "stream",
     "text": [
      "[150216.1467626589, 23914.54118390938, 53783.462907318586, 4298.202713332564, 26382.357996921353, 14035.308369898128, 4496.3788205423025, 12985.753603654346, 18390.804237598553, 168224.91318260625, 13629.118976451575, 23296.418891140915]\n"
     ]
    }
   ],
   "execution_count": null,
   "metadata": {},
   "outputs": [],
   "source": [
    "print(vals)"
   ]
  },
  {
   "cell_type": "code",
   "execution_count": null,
   "metadata": {},
   "outputs": [],
   "source": [
    "#Identificare il numero ottimo di cluster:\n",
    "\n",
    "points, centroids = make_blobs(n_samples=500, centers=6, n_features=2, random_state=2, cluster_std = 0.2)\n",
    "\n",
    "plt.scatter(points[:,0], points[:,1])\n",
    "plt.show()\n",
    "\n",
    "\n",
    "cluster_val = []\n",
    "for i in tqdm(range(5,6)):\n",
    "    best_val = -1\n",
    "    for i in range(10): \n",
    "        sol = k_means(points, i)\n",
    "        val = squared_inner_distance(sol, points, i)\n",
    "        if(best_val == -1 or best_val > val):\n",
    "            best_val = val\n",
    "            print(best_val)\n",
    "    cluster_val.append(best_val)\n",
    "\n",
    "plt.plot(range(2,20), cluster_val)"
   ]
  },
  {
   "cell_type": "code",
   "execution_count": null,
   "metadata": {},
   "outputs": [],
   "source": []
  }
 ],
 "metadata": {
  "kernelspec": {
   "display_name": "Python 3.8.5 ('base')",
   "language": "python",
   "name": "python3"
  },
  "language_info": {
   "codemirror_mode": {
    "name": "ipython",
    "version": 3
   },
   "file_extension": ".py",
   "mimetype": "text/x-python",
   "name": "python",
   "nbconvert_exporter": "python",
   "pygments_lexer": "ipython3",
   "version": "3.8.5"
  },
  "orig_nbformat": 4,
  "vscode": {
   "interpreter": {
    "hash": "7441139c53f2b833c4015f797d2dbdb1c0994f83a932996f213ed98bc2a18fd3"
   }
  }
 },
 "nbformat": 4,
 "nbformat_minor": 2
}
