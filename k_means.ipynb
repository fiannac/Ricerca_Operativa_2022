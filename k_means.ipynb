{
 "cells": [
  {
   "cell_type": "code",
   "execution_count": null,
   "metadata": {},
   "outputs": [],
   "source": [
    "import numpy as np\n",
    "import os\n",
    "import matplotlib.pyplot as plt\n",
    "import random\n",
    "from random import randint\n",
    "from numba import jit\n",
    "from utility import *\n",
    "from tqdm import tqdm\n",
    "from sklearn.datasets import make_blobs"
   ]
  },
  {
   "cell_type": "markdown",
   "metadata": {},
   "source": [
    "# K means\n",
    "\n",
    "Implementazione dell'algoritmo K-means per il clustering.\n",
    "\n",
    "L'algoritmo parte da un insieme di centroidi selezionato casualmente. Ad ogni iterazione, per ogni cluster, ricalcola il valore dei centroidi e sposta ogni punto nel cluster con centroide più vicino. L'algoritmo continua fino a convergenza.\n",
    "\n",
    "Allo scopo di ridurre la dipendenza di K-means dalla scelta dei punti iniziali, seguendo l'approccio multistart, l'algoritmo è ripetuto di default 10 volte, e solo la soluzione migliore è restituita."
   ]
  },
  {
   "cell_type": "code",
   "execution_count": null,
   "metadata": {},
   "outputs": [],
   "source": [
    "def k_means(points, K, iters = 10):\n",
    "    N = points.shape[0]\n",
    "    dimension = points.shape[1]\n",
    "    #inizializzazione dei centroidi in corrispondenza di K punti \n",
    "    centroids = np.zeros((K,dimension))\n",
    "    clusters = np.zeros(N)\n",
    "    best_val = -1\n",
    "    \n",
    "    for iter in range(iters):\n",
    "        choices = np.arange(N)\n",
    "        for i in range(K):\n",
    "            choice = np.random.randint(len(choices))\n",
    "            centroids[i] = points[choice].copy()#centroids_list[i]\n",
    "            choices = np.delete(choices, choice)\n",
    "        finito = False\n",
    "        while(finito == False):\n",
    "            for i in range(N):\n",
    "                dist = -1\n",
    "                centroid = -1\n",
    "                for c in range(K):\n",
    "                    dist_c = np.linalg.norm(centroids[c]-points[i])\n",
    "                    if(dist_c < dist or dist == -1):\n",
    "                        centroid = c\n",
    "                        dist = dist_c\n",
    "                clusters[i] = centroid        \n",
    "            old_centroids = centroids.copy()\n",
    "\n",
    "            for i in range(K): #calcolo nuovi centroidi\n",
    "                centroids[i] = np.zeros(dimension)\n",
    "                n_elem = 0\n",
    "                for j in range(N):\n",
    "                    if clusters[j] == i:\n",
    "                        n_elem = n_elem+1\n",
    "                        centroids[i] = centroids[i] + points[j]\n",
    "                if(n_elem == 0):\n",
    "                    centroids[i] = points[np.random.randint(len(choices))].copy()\n",
    "                else:\n",
    "                    centroids[i] = centroids[i] / n_elem\n",
    "\n",
    "            if((old_centroids == centroids).all()):#criterio di arresto\n",
    "                finito = True    \n",
    "                val = squared_inner_distance(clusters, points, K)\n",
    "                if(best_val == -1 or best_val > val):\n",
    "                    best_val = val\n",
    "                    best_sol = clusters\n",
    "\n",
    "    return best_sol"
   ]
  },
  {
   "cell_type": "markdown",
   "metadata": {},
   "source": [
    "# Esempio di utilizzo del K-means\n",
    "\n",
    "Testiamo l'euristica dell'euristica con un istanza di 1000 punti di $R^2$ e un numero di cluster pari K pari a 10.\n",
    "\n",
    "L'insieme di punti su cui è testata l'euristica è generato tramite la funzione make_blobs che genera un insieme di punti di $R^n$ con specifici parametri regolabili.\n",
    "\n",
    "Un vantaggio di k-means sulle altre euristiche e che non necessità di una soluzione iniziale in ingresso o del tuning di iperparametri."
   ]
  },
  {
   "cell_type": "code",
   "execution_count": null,
   "metadata": {},
   "outputs": [],
   "source": [
    "N = 1000\n",
    "K = 5\n",
    "\n",
    "points, centroids = make_blobs(n_samples=N, centers=K, n_features=2, random_state=np.random.randint(100))\n",
    "\n",
    "sol = k_means(points, K, 10)\n",
    "\n",
    "print(\"{:.5E}\".format(squared_inner_distance(sol, points, K)))#mostra soltanto 5 cifre significative\n",
    "printR2sol(points, sol, K)"
   ]
  }
 ],
 "metadata": {
  "kernelspec": {
   "display_name": "Python 3.8.5 ('base')",
   "language": "python",
   "name": "python3"
  },
  "language_info": {
   "codemirror_mode": {
    "name": "ipython",
    "version": 3
   },
   "file_extension": ".py",
   "mimetype": "text/x-python",
   "name": "python",
   "nbconvert_exporter": "python",
   "pygments_lexer": "ipython3",
   "version": "3.8.5"
  },
  "orig_nbformat": 4,
  "vscode": {
   "interpreter": {
    "hash": "7441139c53f2b833c4015f797d2dbdb1c0994f83a932996f213ed98bc2a18fd3"
   }
  }
 },
 "nbformat": 4,
 "nbformat_minor": 2
}
