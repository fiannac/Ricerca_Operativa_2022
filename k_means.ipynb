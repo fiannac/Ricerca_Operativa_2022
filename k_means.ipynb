{
 "cells": [
  {
   "cell_type": "code",
   "execution_count": 15,
   "metadata": {},
   "outputs": [],
   "source": [
    "import numpy as np\n",
    "import matplotlib.pyplot as plt\n",
    "import random\n",
    "from random import randint\n",
    "from numba import jit\n",
    "from utility import *\n",
    "from tqdm import tqdm\n",
    "\n",
    "from sklearn.datasets import make_blobs"
   ]
  },
  {
   "cell_type": "code",
   "execution_count": 2,
   "metadata": {},
   "outputs": [],
   "source": [
    "#@jit(nopython=True)\n",
    "def k_means(points, K):\n",
    "    N = points.shape[0]\n",
    "    dimension = points.shape[1]\n",
    "    #inizializzazione dei centroidi in corrispondenza di K punti \n",
    "    centroids = np.zeros((K,dimension))\n",
    "    clusters = np.zeros(N)\n",
    "    choices = np.arange(N)\n",
    "    for i in range(K):\n",
    "        choice = np.random.randint(len(choices))\n",
    "        centroids[i] = points[choice].copy()#centroids_list[i]\n",
    "        choices = np.delete(choices, choice)\n",
    "    finito = False\n",
    "    iter = 0\n",
    "    while(finito == False):\n",
    "        for i in range(N):\n",
    "            dist = -1\n",
    "            centroid = -1\n",
    "            for c in range(K):\n",
    "                dist_c = np.linalg.norm(centroids[c]-points[i])\n",
    "                if(dist_c < dist or dist == -1):\n",
    "                    centroid = c\n",
    "                    dist = dist_c\n",
    "            clusters[i] = centroid        \n",
    "        old_centroids = centroids.copy()\n",
    "\n",
    "        for i in range(K): #calcolo nuovi centroidi\n",
    "            centroids[i] = np.zeros(dimension)\n",
    "            n_elem = 0\n",
    "            for j in range(N):\n",
    "                if clusters[j] == i:\n",
    "                    n_elem = n_elem+1\n",
    "                    centroids[i] = centroids[i] + points[j]\n",
    "            if(n_elem == 0):\n",
    "                centroids[i] = points[np.random.randint(len(choices))].copy()\n",
    "            else:\n",
    "                centroids[i] = centroids[i] / n_elem\n",
    "\n",
    "        iter = iter + 1\n",
    "        if((old_centroids == centroids).all()):\n",
    "            finito = True\n",
    "                \n",
    "\n",
    "\n",
    "    return clusters, centroids"
   ]
  },
  {
   "cell_type": "code",
   "execution_count": 13,
   "metadata": {},
   "outputs": [
    {
     "name": "stdout",
     "output_type": "stream",
     "text": [
      "1.17388E+03\n"
     ]
    }
   ],
   "source": [
    "#points = load_points('C:/Users/franc/Desktop/prova.txt')\n",
    "\n",
    "points, centroids = make_blobs(n_samples=500, centers=5, n_features=2, random_state=2)\n",
    "\n",
    "N = len(points)\n",
    "K = 5\n",
    "\n",
    "sol, centroids = k_means(points, K)\n",
    "\n",
    "print(\"{:.5E}\".format(squared_inner_distance(sol, points, K)))"
   ]
  },
  {
   "cell_type": "code",
   "execution_count": 14,
   "metadata": {},
   "outputs": [
    {
     "data": {
      "image/png": "[encoded data removed]",
      "text/plain": [
       "<Figure size 432x288 with 1 Axes>"
      ]
     },
     "metadata": {
      "needs_background": "light"
     },
     "output_type": "display_data"
    }
   ],
   "source": [
    "printR2sol(points, sol, K)"
   ]
  },
  {
   "cell_type": "code",
   "execution_count": null,
   "metadata": {},
   "outputs": [],
   "source": [
    "values = []\n",
    "L = int(N/5)\n",
    "for i in tqdm(range(1,L)):\n",
    "    best_val = 0\n",
    "    for j in range(10):\n",
    "        clusters, centroids = k_means(points, i)\n",
    "        val = squared_inner_distance(clusters, points, i)\n",
    "        if( val < best_val or j == 0):\n",
    "            best_val = val\n",
    "    values.append(best_val)\n",
    "\n",
    "plt.plot(range(1,L), values)\n",
    "\n"
   ]
  },
  {
   "cell_type": "code",
   "execution_count": null,
   "metadata": {},
   "outputs": [],
   "source": [
    "def elbow_method(values):\n",
    "    values = np.array(values)\n",
    "    values = values/np.max(values)\n",
    "    diffs = (values[:-1]-values[1:])/values[:-1]\n",
    "    print(diffs)\n",
    "    diffs = diffs[:-1] - diffs[1:]\n",
    "    print(diffs)\n",
    "\n",
    "    return np.argmax(diffs) + 1"
   ]
  },
  {
   "cell_type": "code",
   "execution_count": null,
   "metadata": {},
   "outputs": [],
   "source": [
    "print(f\"Il valore ottimo di cluster per questo problema è {elbow_method(values)}\")"
   ]
  },
  {
   "cell_type": "code",
   "execution_count": null,
   "metadata": {},
   "outputs": [],
   "source": [
    "#testiamo il kmeans sulle 10 istanze di test:\n",
    "\n",
    "n_points = [500,1000,2000,5000,1400,10000,4000,7000,300,800]\n",
    "n_clusters = [7,4,3,2,3,2,4,5,4,6,4]\n",
    "dim_points = [32,3,2,2,3,2,3,2,64,32]\n",
    "\n",
    "vals = []\n",
    "\n",
    "for test in tqdm(range(1,11)):\n",
    "    points = load_points(f'C:/Users/franc/Documents/GitHub/Ricerca_Operativa_2022/Ricerca_Operativa_2022/benchmark/benchmark{test}.txt')\n",
    "    N = len(points)\n",
    "    K = n_clusters[test-1]\n",
    "    sol, centroids = k_means(points, K)\n",
    "    vals.append(squared_inner_distance(sol, points, K))\n",
    "    \n",
    "    if(dim_points == 2):\n",
    "        printR2sol(points, sol, K)"
   ]
  }
 ],
 "metadata": {
  "interpreter": {
   "hash": "e03b612d84ba21ce95ed447e81b3062e1eb99b56c6d885cdab4aaa12f1b8e240"
  },
  "kernelspec": {
   "display_name": "Python 3.8.5 ('base')",
   "language": "python",
   "name": "python3"
  },
  "language_info": {
   "codemirror_mode": {
    "name": "ipython",
    "version": 3
   },
   "file_extension": ".py",
   "mimetype": "text/x-python",
   "name": "python",
   "nbconvert_exporter": "python",
   "pygments_lexer": "ipython3",
   "version": "3.8.5"
  },
  "orig_nbformat": 4
 },
 "nbformat": 4,
 "nbformat_minor": 2
}
