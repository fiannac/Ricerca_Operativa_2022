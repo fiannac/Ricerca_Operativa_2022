{
 "cells": [
  {
   "cell_type": "code",
   "execution_count": null,
   "metadata": {},
   "outputs": [],
   "source": [
    "import numpy as np\n",
    "from numba import jit, njit\n",
    "import matplotlib.pyplot as plt\n",
    "from random import randint\n",
    "from sklearn.datasets import make_blobs\n",
    "from utility import *\n",
    "from tqdm import tqdm\n",
    "from sklearn.cluster import k_means"
   ]
  },
  {
   "cell_type": "markdown",
   "metadata": {},
   "source": [
    "Implementazione del local search. La funzione neighbors clustering restituisce un sottoinsieme dell'intorno della soluzione sol tramite le mosse di scambio tra due elementi e di spostamento di un elemento."
   ]
  },
  {
   "cell_type": "code",
   "execution_count": null,
   "metadata": {},
   "outputs": [],
   "source": [
    "@njit\n",
    "def neighbors_clustering(sol, points, K, q):\n",
    "    neighbors = []\n",
    "\n",
    "    choices = np.arange(len(sol))\n",
    "    orig_val = squared_inner_distance(sol, points, K)\n",
    "    centroids = calc_centroids(sol, points, K)\n",
    "\n",
    "    for i in range(q):#mossa di spostamento di un nodo\n",
    "        choice = np.random.randint(len(choices))\n",
    "        choices = np.delete(choices, choice)\n",
    "        for k in range(K):\n",
    "            new_sol = sol.copy()\n",
    "            if(k != new_sol[choice]):\n",
    "                new_sol[choice] = k\n",
    "                new_val = orig_val - np.linalg.norm(points[choice]-centroids[sol[choice]])**2 + np.linalg.norm(points[choice]-centroids[k])**2\n",
    "                neighbors.append((new_sol,new_val))\n",
    "\n",
    "\n",
    "    choices1 = np.arange(len(sol))\n",
    "    choices2 = np.arange(len(sol))\n",
    "    for i in range(q):\n",
    "        choice1 = np.random.randint(len(choices1))\n",
    "        choices1 = np.delete(choices1, choice1)\n",
    "        choice2 = np.random.randint(len(choices2))\n",
    "        choices2 = np.delete(choices2, choice2)\n",
    "\n",
    "        new_sol = sol.copy()\n",
    "        new_sol[choice1], new_sol[choice2] = new_sol[choice2], new_sol[choice1]\n",
    "\n",
    "        new_val = orig_val - np.linalg.norm(points[choice1]-centroids[sol[choice1]])**2 - np.linalg.norm(points[choice2]-centroids[sol[choice2]])**2 + np.linalg.norm(points[choice1]-centroids[sol[choice2]])**2 + np.linalg.norm(points[choice2]-centroids[sol[choice1]])**2\n",
    "        neighbors.append((new_sol,new_val))\n",
    "        \n",
    "    return neighbors\n",
    "\n",
    "\n",
    "@njit\n",
    "def local_search(base_sol, points, K, q = 100, verbose = True):\n",
    "    old_sol = base_sol\n",
    "    base_val = squared_inner_distance(old_sol, points, K)\n",
    "    iter = 1\n",
    "    same_sol = 0\n",
    "\n",
    "    while True:\n",
    "        neighbourhood = neighbors_clustering(old_sol, points, K, q)\n",
    "        best_val = squared_inner_distance(old_sol, points , K)\n",
    "        best_sol = old_sol\n",
    "\n",
    "        if verbose:\n",
    "            print(\"Iteration number:\", iter, \"Valore percentuale:\", best_val/base_val*100, \"%\")\n",
    "\n",
    "        for sol,val in neighbourhood:\n",
    "            if(val < best_val):\n",
    "                best_val = val\n",
    "                best_sol = sol\n",
    "        \n",
    "        if((best_sol == old_sol).all()):\n",
    "            same_sol = same_sol + 1\n",
    "            if(same_sol == 500):\n",
    "                break\n",
    "        else:\n",
    "            same_sol = 0\n",
    "            curr_sol = best_sol\n",
    "\n",
    "        iter = iter+1\n",
    "    return curr_sol"
   ]
  },
  {
   "cell_type": "markdown",
   "metadata": {},
   "source": [
    "Testing dell'euristica con un istanza di 1000 punti in R^2 e un numero di cluster pari a 10"
   ]
  },
  {
   "cell_type": "markdown",
   "metadata": {},
   "source": [
    "Istanza di prova della local search"
   ]
  },
  {
   "cell_type": "code",
   "execution_count": null,
   "metadata": {},
   "outputs": [],
   "source": [
    "K = 10\n",
    "N = 1000\n",
    "\n",
    "points, centroids = make_blobs(n_samples=N, centers=K, n_features=2, random_state=np.random.randint(10))\n",
    "\n",
    "sol = np.random.randint(K, size = N)\n",
    "sol = local_search(sol, points, K, q = 500)\n",
    "\n",
    "print(\"Il valore di f.obj ottenuta è: {:.5E}\".format(squared_inner_distance(sol, points, K)))\n",
    "\n",
    "printR2sol(points, sol, K)"
   ]
  }
 ],
 "metadata": {
  "kernelspec": {
   "display_name": "Python 3.8.5 ('base')",
   "language": "python",
   "name": "python3"
  },
  "language_info": {
   "codemirror_mode": {
    "name": "ipython",
    "version": 3
   },
   "file_extension": ".py",
   "mimetype": "text/x-python",
   "name": "python",
   "nbconvert_exporter": "python",
   "pygments_lexer": "ipython3",
   "version": "3.8.5"
  },
  "vscode": {
   "interpreter": {
    "hash": "7441139c53f2b833c4015f797d2dbdb1c0994f83a932996f213ed98bc2a18fd3"
   }
  }
 },
 "nbformat": 4,
 "nbformat_minor": 2
}
