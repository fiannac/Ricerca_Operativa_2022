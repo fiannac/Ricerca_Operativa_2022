{
 "cells": [
  {
   "cell_type": "code",
   "execution_count": 1,
   "metadata": {},
   "outputs": [],
   "source": [
    "import numpy as np\n",
    "from numba import jit, njit\n",
    "import matplotlib.pyplot as plt\n",
    "from random import randint\n",
    "from sklearn.datasets import make_blobs\n",
    "from utility import *\n",
    "from tqdm import tqdm\n",
    "from sklearn.cluster import k_means"
   ]
  },
  {
   "cell_type": "markdown",
   "metadata": {},
   "source": [
    "# Local search\n",
    "\n",
    "Implementazione dell'algoritmo di local search per la soluzione del problema di clustering.\n",
    "\n",
    "L'algoritmo parte da una soluzione generata casualmente e la migliora iterativamente selezionando, dall'intorno di questa, la miglior soluzione adiacente disponibile.\n",
    "\n",
    "L'intorno di una mossa è calcolato applicando due tipologie di mosse:\n",
    "* spostamento di un nodo da un cluster ad un altro\n",
    "* scambio di due nodi\n",
    "\n",
    "Per motivi di efficienza l'algoritmo opera su un sottoinsieme campionato in maniera casuale degli elementi dell'intorno della soluzione analizzata.\n",
    "\n",
    "La funzione neighbors_clustering restituisce un sottoinsieme dell'intorno della soluzione calcolato mediante le mosse precedentemente discusse.\n",
    "\n",
    "La funzione local_search realizza invece l'algoritmo di ricerca locale utilizzando come metrica la funzione di squared_inner_distance definita in utiliy.py"
   ]
  },
  {
   "cell_type": "code",
   "execution_count": 2,
   "metadata": {},
   "outputs": [],
   "source": [
    "@njit\n",
    "def neighbors_clustering(sol, points, K):\n",
    "    neighbors = []\n",
    "\n",
    "    q = int(len(points)/50) + 1\n",
    "\n",
    "    choices = np.arange(len(sol))\n",
    "    orig_val = squared_inner_distance(sol, points, K)\n",
    "    centroids = calc_centroids(sol, points, K)\n",
    "\n",
    "    for i in range(q):\n",
    "        choice = np.random.randint(len(choices))\n",
    "        choices = np.delete(choices, choice)\n",
    "        for k in range(K):\n",
    "            new_sol = sol.copy()\n",
    "            if(k != new_sol[choice]):\n",
    "                new_sol[choice] = k\n",
    "                new_val = orig_val - np.linalg.norm(points[choice]-centroids[sol[choice]])**2 + np.linalg.norm(points[choice]-centroids[k])**2\n",
    "                neighbors.append((new_sol,new_val))\n",
    "\n",
    "\n",
    "    choices1 = np.arange(len(sol))\n",
    "    choices2 = np.arange(len(sol))\n",
    "    for i in range(q):\n",
    "        choice1 = np.random.randint(len(choices1))\n",
    "        choices1 = np.delete(choices1, choice1)\n",
    "        choice2 = np.random.randint(len(choices2))\n",
    "        choices2 = np.delete(choices2, choice2)\n",
    "\n",
    "        new_sol = sol.copy()\n",
    "        new_sol[choice1], new_sol[choice2] = new_sol[choice2], new_sol[choice1]\n",
    "\n",
    "        new_val = orig_val - np.linalg.norm(points[choice1]-centroids[sol[choice1]])**2 - np.linalg.norm(points[choice2]-centroids[sol[choice2]])**2 + np.linalg.norm(points[choice1]-centroids[sol[choice2]])**2 + np.linalg.norm(points[choice2]-centroids[sol[choice1]])**2\n",
    "        neighbors.append((new_sol,new_val))\n",
    "        \n",
    "    return neighbors"
   ]
  },
  {
   "cell_type": "code",
   "execution_count": 3,
   "metadata": {},
   "outputs": [],
   "source": [
    "@njit\n",
    "def local_search(base_sol, points, K, verbose = True):\n",
    "    old_sol = base_sol\n",
    "    base_val = squared_inner_distance(old_sol, points, K)\n",
    "    iter = 0\n",
    "    same_sol = 0\n",
    "\n",
    "    while True:\n",
    "        neighbourhood = neighbors_clustering(old_sol, points, K)\n",
    "        best_val = squared_inner_distance(old_sol, points , K)\n",
    "        best_sol = old_sol\n",
    "\n",
    "        if verbose and iter%50 == 0:\n",
    "            print(\"Iteration number:\", iter, \"Valore percentuale:\", best_val/base_val*100, \"%\")\n",
    "\n",
    "        for sol,val in neighbourhood:\n",
    "            if(val < best_val):\n",
    "                best_val = val\n",
    "                best_sol = sol\n",
    "        \n",
    "        if((best_sol == old_sol).all()):\n",
    "            same_sol = same_sol + 1\n",
    "            if(same_sol == 500):\n",
    "                break\n",
    "        else:\n",
    "            same_sol = 0\n",
    "            old_sol = best_sol\n",
    "\n",
    "        iter = iter+1\n",
    "    return old_sol"
   ]
  },
  {
   "cell_type": "markdown",
   "metadata": {},
   "source": [
    "# Esempio di utilizzo della local search\n",
    "\n",
    "Testiamo l'euristica dell'euristica con un istanza di 1000 punti di $R^2$ e un numero di cluster pari K pari a 10.\n",
    "\n",
    "L'insieme di punti su cui è testata l'euristica è generato tramite la funzione make_blobs che genera un insieme di punti di $R^n$ con specifici parametri regolabili."
   ]
  },
  {
   "cell_type": "code",
   "execution_count": 4,
   "metadata": {},
   "outputs": [
    {
     "name": "stdout",
     "output_type": "stream",
     "text": [
      "Iteration number: 0 Valore percentuale: 100.0 %\n",
      "Iteration number: 50 Valore percentuale: 90.37217738839124 %\n",
      "Iteration number: 100 Valore percentuale: 76.27927375577848 %\n",
      "Iteration number: 150 Valore percentuale: 65.69930413709535 %\n",
      "Iteration number: 200 Valore percentuale: 56.36285160482316 %\n",
      "Iteration number: 250 Valore percentuale: 48.85733295202296 %\n",
      "Iteration number: 300 Valore percentuale: 40.91075844116403 %\n",
      "Iteration number: 350 Valore percentuale: 33.90371093074472 %\n",
      "Iteration number: 400 Valore percentuale: 28.293093973465062 %\n",
      "Iteration number: 450 Valore percentuale: 24.094127594526146 %\n",
      "Iteration number: 500 Valore percentuale: 20.459003575992128 %\n",
      "Iteration number: 550 Valore percentuale: 17.667394563237426 %\n",
      "Iteration number: 600 Valore percentuale: 15.41312458049669 %\n",
      "Iteration number: 650 Valore percentuale: 13.160881024044391 %\n",
      "Iteration number: 700 Valore percentuale: 11.383937983521225 %\n",
      "Iteration number: 750 Valore percentuale: 9.60350616217793 %\n",
      "Iteration number: 800 Valore percentuale: 8.14237097068305 %\n",
      "Iteration number: 850 Valore percentuale: 7.027899446508967 %\n",
      "Iteration number: 900 Valore percentuale: 5.975409783850914 %\n",
      "Iteration number: 950 Valore percentuale: 5.4867417421347335 %\n",
      "Iteration number: 1000 Valore percentuale: 5.152082023779973 %\n",
      "Iteration number: 1050 Valore percentuale: 5.016061576268753 %\n",
      "Iteration number: 1100 Valore percentuale: 4.847927398890854 %\n",
      "Iteration number: 1150 Valore percentuale: 4.694908517201678 %\n",
      "Iteration number: 1200 Valore percentuale: 4.598581394657434 %\n",
      "Iteration number: 1250 Valore percentuale: 4.544037880120418 %\n",
      "Iteration number: 1300 Valore percentuale: 4.504878788996123 %\n",
      "Iteration number: 1350 Valore percentuale: 4.474853596210616 %\n",
      "Iteration number: 1400 Valore percentuale: 4.449709447421278 %\n",
      "Iteration number: 1450 Valore percentuale: 4.4447918434421805 %\n",
      "Iteration number: 1500 Valore percentuale: 4.436252901439247 %\n",
      "Iteration number: 1550 Valore percentuale: 4.415653286423676 %\n",
      "Iteration number: 1600 Valore percentuale: 4.410728725250826 %\n",
      "Iteration number: 1650 Valore percentuale: 4.403033609552127 %\n",
      "Iteration number: 1700 Valore percentuale: 4.3990697279596205 %\n",
      "Iteration number: 1750 Valore percentuale: 4.398591030491751 %\n",
      "Iteration number: 1800 Valore percentuale: 4.398252403039788 %\n",
      "Iteration number: 1850 Valore percentuale: 4.397205711120687 %\n",
      "Iteration number: 1900 Valore percentuale: 4.397205711120687 %\n",
      "Iteration number: 1950 Valore percentuale: 4.397205711120687 %\n",
      "Iteration number: 2000 Valore percentuale: 4.397205711120687 %\n",
      "Iteration number: 2050 Valore percentuale: 4.397205711120687 %\n",
      "Iteration number: 2100 Valore percentuale: 4.397205711120687 %\n",
      "Iteration number: 2150 Valore percentuale: 4.397205711120687 %\n",
      "Iteration number: 2200 Valore percentuale: 4.397205711120687 %\n",
      "Iteration number: 2250 Valore percentuale: 4.397205711120687 %\n",
      "Iteration number: 2300 Valore percentuale: 4.397205711120687 %\n",
      "Il valore di f.obj ottenuta è: 2.28658E+03\n"
     ]
    },
    {
     "data": {
      "image/png": "[encoded data removed]",
      "text/plain": [
       "<Figure size 432x288 with 1 Axes>"
      ]
     },
     "metadata": {
      "needs_background": "light"
     },
     "output_type": "display_data"
    }
   ],
   "source": [
    "K = 10\n",
    "N = 1000\n",
    "\n",
    "points, centroids = make_blobs(n_samples=N, centers=K, n_features=2, random_state=np.random.randint(10))\n",
    "\n",
    "sol = np.random.randint(K, size = N)\n",
    "sol = local_search(sol, points, K)\n",
    "\n",
    "print(\"Il valore di f.obj ottenuta è: {:.5E}\".format(squared_inner_distance(sol, points, K)))\n",
    "\n",
    "printR2sol(points, sol, K)"
   ]
  }
 ],
 "metadata": {
  "kernelspec": {
   "display_name": "Python 3.8.5 ('base')",
   "language": "python",
   "name": "python3"
  },
  "language_info": {
   "codemirror_mode": {
    "name": "ipython",
    "version": 3
   },
   "file_extension": ".py",
   "mimetype": "text/x-python",
   "name": "python",
   "nbconvert_exporter": "python",
   "pygments_lexer": "ipython3",
   "version": "3.8.5"
  },
  "vscode": {
   "interpreter": {
    "hash": "e03b612d84ba21ce95ed447e81b3062e1eb99b56c6d885cdab4aaa12f1b8e240"
   }
  }
 },
 "nbformat": 4,
 "nbformat_minor": 2
}
