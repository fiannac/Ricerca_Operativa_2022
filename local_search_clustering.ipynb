{
 "cells": [
  {
   "cell_type": "code",
   "execution_count": 4,
   "metadata": {},
   "outputs": [],
   "source": [
    "import numpy as np\n",
    "from numba import jit, njit\n",
    "import matplotlib.pyplot as plt\n",
    "from random import randint\n",
    "from sklearn.datasets import make_blobs\n",
    "from utility import *\n",
    "from tqdm import tqdm\n",
    "from sklearn.cluster import k_means"
   ]
  },
  {
   "cell_type": "markdown",
   "metadata": {},
   "source": [
    "# Local search\n",
    "\n",
    "Implementazione dell'algoritmo di local search per la soluzione del problema di clustering.\n",
    "\n",
    "L'algoritmo parte da una soluzione generata casualmente e la migliora iterativamente selezionando, dall'intorno di questa, la miglior soluzione adiacente disponibile.\n",
    "\n",
    "L'intorno di una mossa è calcolato applicando due tipologie di mosse:\n",
    "* spostamento di un nodo da un cluster ad un altro\n",
    "* scambio di due nodi\n",
    "\n",
    "Per motivi di efficienza l'algoritmo opera su un sottoinsieme campionato in maniera casuale degli elementi dell'intorno della soluzione analizzata.\n",
    "\n",
    "La funzione neighbors_clustering restituisce un sottoinsieme dell'intorno della soluzione calcolato mediante le mosse precedentemente discusse.\n",
    "\n",
    "La funzione local_search realizza invece l'algoritmo di ricerca locale utilizzando come metrica la funzione di squared_inner_distance definita in utiliy.py"
   ]
  },
  {
   "cell_type": "code",
   "execution_count": 5,
   "metadata": {},
   "outputs": [],
   "source": [
    "@njit\n",
    "def neighbors_clustering(sol, points, K):\n",
    "    neighbors = []\n",
    "\n",
    "    q = int(len(points)/50)\n",
    "\n",
    "    choices = np.arange(len(sol))\n",
    "    orig_val = squared_inner_distance(sol, points, K)\n",
    "    centroids = calc_centroids(sol, points, K)\n",
    "\n",
    "    for i in range(q):\n",
    "        choice = np.random.randint(len(choices))\n",
    "        choices = np.delete(choices, choice)\n",
    "        for k in range(K):\n",
    "            new_sol = sol.copy()\n",
    "            if(k != new_sol[choice]):\n",
    "                new_sol[choice] = k\n",
    "                new_val = orig_val - np.linalg.norm(points[choice]-centroids[sol[choice]])**2 + np.linalg.norm(points[choice]-centroids[k])**2\n",
    "                neighbors.append((new_sol,new_val))\n",
    "\n",
    "\n",
    "    choices1 = np.arange(len(sol))\n",
    "    choices2 = np.arange(len(sol))\n",
    "    for i in range(q):\n",
    "        choice1 = np.random.randint(len(choices1))\n",
    "        choices1 = np.delete(choices1, choice1)\n",
    "        choice2 = np.random.randint(len(choices2))\n",
    "        choices2 = np.delete(choices2, choice2)\n",
    "\n",
    "        new_sol = sol.copy()\n",
    "        new_sol[choice1], new_sol[choice2] = new_sol[choice2], new_sol[choice1]\n",
    "\n",
    "        new_val = orig_val - np.linalg.norm(points[choice1]-centroids[sol[choice1]])**2 - np.linalg.norm(points[choice2]-centroids[sol[choice2]])**2 + np.linalg.norm(points[choice1]-centroids[sol[choice2]])**2 + np.linalg.norm(points[choice2]-centroids[sol[choice1]])**2\n",
    "        neighbors.append((new_sol,new_val))\n",
    "        \n",
    "    return neighbors"
   ]
  },
  {
   "cell_type": "code",
   "execution_count": null,
   "metadata": {},
   "outputs": [],
   "source": [
    "@njit\n",
    "def local_search(base_sol, points, K, verbose = True):\n",
    "    old_sol = base_sol\n",
    "    base_val = squared_inner_distance(old_sol, points, K)\n",
    "    iter = 0\n",
    "    same_sol = 0\n",
    "\n",
    "    while True:\n",
    "        neighbourhood = neighbors_clustering(old_sol, points, K)\n",
    "        best_val = squared_inner_distance(old_sol, points , K)\n",
    "        best_sol = old_sol\n",
    "\n",
    "        if verbose and iter%50 == 0:\n",
    "            print(\"Iteration number:\", iter, \"Valore percentuale:\", best_val/base_val*100, \"%\")\n",
    "\n",
    "        for sol,val in neighbourhood:\n",
    "            if(val < best_val):\n",
    "                best_val = val\n",
    "                best_sol = sol\n",
    "        \n",
    "        if((best_sol == old_sol).all()):\n",
    "            same_sol = same_sol + 1\n",
    "            if(same_sol == 500):\n",
    "                break\n",
    "        else:\n",
    "            same_sol = 0\n",
    "            old_sol = best_sol\n",
    "\n",
    "        iter = iter+1\n",
    "    return old_sol"
   ]
  },
  {
   "cell_type": "markdown",
   "metadata": {},
   "source": [
    "# Esempio di utilizzo della local search\n",
    "\n",
    "Testiamo l'euristica dell'euristica con un istanza di 1000 punti di $R^2$ e un numero di cluster pari K pari a 10.\n",
    "\n",
    "L'insieme di punti su cui è testata l'euristica è generato tramite la funzione make_blobs che genera un insieme di punti di $R^n$ con specifici parametri regolabili."
   ]
  },
  {
   "cell_type": "code",
   "execution_count": 6,
   "metadata": {},
   "outputs": [
    {
     "name": "stdout",
     "output_type": "stream",
     "text": [
      "Iteration number: 0 Valore percentuale: 100.0 %\n",
      "Iteration number: 50 Valore percentuale: 94.72544730290683 %\n",
      "Iteration number: 100 Valore percentuale: 87.1373310792904 %\n",
      "Iteration number: 150 Valore percentuale: 78.2606439354951 %\n",
      "Iteration number: 200 Valore percentuale: 70.9346590615838 %\n",
      "Iteration number: 250 Valore percentuale: 64.15827518329961 %\n",
      "Iteration number: 300 Valore percentuale: 58.48653116890093 %\n",
      "Iteration number: 350 Valore percentuale: 52.56421582056742 %\n",
      "Iteration number: 400 Valore percentuale: 47.051447923207256 %\n",
      "Iteration number: 450 Valore percentuale: 41.766638053582135 %\n",
      "Iteration number: 500 Valore percentuale: 36.76478953693358 %\n",
      "Iteration number: 550 Valore percentuale: 32.176299377690285 %\n",
      "Iteration number: 600 Valore percentuale: 28.593484680403648 %\n",
      "Iteration number: 650 Valore percentuale: 25.15946916835131 %\n",
      "Iteration number: 700 Valore percentuale: 22.311870549303407 %\n",
      "Iteration number: 750 Valore percentuale: 19.363673566361033 %\n",
      "Iteration number: 800 Valore percentuale: 16.70994858402943 %\n",
      "Iteration number: 850 Valore percentuale: 13.829761244758165 %\n",
      "Iteration number: 900 Valore percentuale: 11.4359370347113 %\n",
      "Iteration number: 950 Valore percentuale: 9.30973618144514 %\n",
      "Iteration number: 1000 Valore percentuale: 7.742148338235004 %\n",
      "Iteration number: 1050 Valore percentuale: 6.5074013790153735 %\n",
      "Iteration number: 1100 Valore percentuale: 5.6740452825516545 %\n",
      "Iteration number: 1150 Valore percentuale: 5.062086056421191 %\n",
      "Iteration number: 1200 Valore percentuale: 4.592146370345457 %\n",
      "Iteration number: 1250 Valore percentuale: 4.318685914172433 %\n",
      "Iteration number: 1300 Valore percentuale: 4.106162575305132 %\n",
      "Iteration number: 1350 Valore percentuale: 4.044383943498446 %\n",
      "Iteration number: 1400 Valore percentuale: 3.941892174026561 %\n",
      "Iteration number: 1450 Valore percentuale: 3.9069646884003486 %\n",
      "Iteration number: 1500 Valore percentuale: 3.8936189843348465 %\n",
      "Iteration number: 1550 Valore percentuale: 3.8822547326887697 %\n",
      "Iteration number: 1600 Valore percentuale: 3.8802465029488293 %\n",
      "Iteration number: 1650 Valore percentuale: 3.8779519109766056 %\n",
      "Iteration number: 1700 Valore percentuale: 3.8771359095569955 %\n",
      "Iteration number: 1750 Valore percentuale: 3.8760420466035477 %\n",
      "Iteration number: 1800 Valore percentuale: 3.873159919654972 %\n",
      "Iteration number: 1850 Valore percentuale: 3.871562421774969 %\n",
      "Iteration number: 1900 Valore percentuale: 3.871370783984998 %\n",
      "Iteration number: 1950 Valore percentuale: 3.870665455440981 %\n",
      "Iteration number: 2000 Valore percentuale: 3.870665455440981 %\n",
      "Iteration number: 2050 Valore percentuale: 3.870665455440981 %\n",
      "Iteration number: 2100 Valore percentuale: 3.870665455440981 %\n",
      "Iteration number: 2150 Valore percentuale: 3.870665455440981 %\n",
      "Iteration number: 2200 Valore percentuale: 3.870665455440981 %\n",
      "Iteration number: 2250 Valore percentuale: 3.870665455440981 %\n",
      "Iteration number: 2300 Valore percentuale: 3.870665455440981 %\n",
      "Iteration number: 2350 Valore percentuale: 3.870665455440981 %\n",
      "Iteration number: 2400 Valore percentuale: 3.870665455440981 %\n",
      "Il valore di f.obj ottenuta è: 2.70852E+03\n"
     ]
    },
    {
     "data": {
      "image/png": "[encoded data removed]",
      "text/plain": [
       "<Figure size 432x288 with 1 Axes>"
      ]
     },
     "metadata": {
      "needs_background": "light"
     },
     "output_type": "display_data"
    }
   ],
   "source": [
    "K = 10\n",
    "N = 1000\n",
    "\n",
    "points, centroids = make_blobs(n_samples=N, centers=K, n_features=2, random_state=np.random.randint(10))\n",
    "\n",
    "sol = np.random.randint(K, size = N)\n",
    "sol = local_search(sol, points, K)\n",
    "\n",
    "print(\"Il valore di f.obj ottenuta è: {:.5E}\".format(squared_inner_distance(sol, points, K)))\n",
    "\n",
    "printR2sol(points, sol, K)"
   ]
  }
 ],
 "metadata": {
  "kernelspec": {
   "display_name": "Python 3.8.5 ('base')",
   "language": "python",
   "name": "python3"
  },
  "language_info": {
   "codemirror_mode": {
    "name": "ipython",
    "version": 3
   },
   "file_extension": ".py",
   "mimetype": "text/x-python",
   "name": "python",
   "nbconvert_exporter": "python",
   "pygments_lexer": "ipython3",
   "version": "3.8.5"
  },
  "vscode": {
   "interpreter": {
    "hash": "e03b612d84ba21ce95ed447e81b3062e1eb99b56c6d885cdab4aaa12f1b8e240"
   }
  }
 },
 "nbformat": 4,
 "nbformat_minor": 2
}
