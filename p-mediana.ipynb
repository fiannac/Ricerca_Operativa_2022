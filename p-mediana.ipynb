{
 "cells": [
  {
   "cell_type": "code",
   "execution_count": 6,
   "metadata": {},
   "outputs": [],
   "source": [
    "import gurobipy as gp\n",
    "import numpy as np\n",
    "import matplotlib.pyplot as plt\n",
    "import random\n",
    "from random import randint\n",
    "from sklearn.datasets import make_blobs\n",
    "from utility import *"
   ]
  },
  {
   "cell_type": "code",
   "execution_count": 7,
   "metadata": {},
   "outputs": [],
   "source": [
    "#points = load_points('C:/Users/franc/Desktop/prova.txt')\n",
    "\n",
    "points = load_points(f'C:/Users/franc/Documents/GitHub/Ricerca_Operativa_2022/Ricerca_Operativa_2022/benchmark/benchmark{1}.txt')\n",
    "\n",
    "K = 7\n",
    "N = len(points)\n",
    "\n",
    "dist = {}\n",
    "\n",
    "for i in range(N):\n",
    "    for j in range(N):\n",
    "        dist[(i,j)] = np.sum((points[i]-points[j])**2)"
   ]
  },
  {
   "cell_type": "code",
   "execution_count": 8,
   "metadata": {},
   "outputs": [
    {
     "name": "stdout",
     "output_type": "stream",
     "text": [
      "Gurobi Optimizer version 9.5.1 build v9.5.1rc2 (win64)\n",
      "Thread count: 4 physical cores, 8 logical processors, using up to 8 threads\n",
      "Optimize a model with 250501 rows, 250500 columns and 750500 nonzeros\n",
      "Model fingerprint: 0x117fef5e\n",
      "Variable types: 0 continuous, 250500 integer (250500 binary)\n",
      "Coefficient statistics:\n",
      "  Matrix range     [1e+00, 1e+00]\n",
      "  Objective range  [2e+01, 3e+03]\n",
      "  Bounds range     [1e+00, 1e+00]\n",
      "  RHS range        [1e+00, 7e+00]\n",
      "Presolve time: 2.30s\n",
      "Presolved: 250501 rows, 250500 columns, 750500 nonzeros\n",
      "Variable types: 0 continuous, 250500 integer (250500 binary)\n",
      "Found heuristic solution: objective 407989.49104\n",
      "\n",
      "Deterministic concurrent LP optimizer: primal and dual simplex\n",
      "Showing first log only...\n",
      "\n",
      "\n",
      "Root simplex log...\n",
      "\n",
      "Iteration    Objective       Primal Inf.    Dual Inf.      Time\n",
      "   39460    3.1541145e+05   0.000000e+00   4.777412e+08      5s\n",
      "Concurrent spin time: 0.01s\n",
      "\n",
      "Solved with dual simplex\n",
      "\n",
      "Root relaxation: objective 2.321598e+04, 16045 iterations, 5.51 seconds (5.11 work units)\n",
      "\n",
      "    Nodes    |    Current Node    |     Objective Bounds      |     Work\n",
      " Expl Unexpl |  Obj  Depth IntInf | Incumbent    BestBd   Gap | It/Node Time\n",
      "\n",
      "*    0     0               0    23215.982659 23215.9827  0.00%     -    8s\n",
      "\n",
      "Explored 1 nodes (16045 simplex iterations) in 8.78 seconds (8.22 work units)\n",
      "Thread count was 8 (of 8 available processors)\n",
      "\n",
      "Solution count 2: 23216 407989 \n",
      "\n",
      "Optimal solution found (tolerance 1.00e-04)\n",
      "Best objective 2.321598265873e+04, best bound 2.321598265873e+04, gap 0.0000%\n"
     ]
    }
   ],
   "source": [
    "model = gp.Model()\n",
    "x = model.addVars(N,N, vtype = gp.GRB.BINARY, name = \"X\") #i elemento , j centroide\n",
    "y = model.addVars(N, vtype = gp.GRB.BINARY, name = \"Y\")\n",
    "\n",
    "obj = model.setObjective(x.prod(dist), gp.GRB.MINIMIZE)\n",
    "\n",
    "model.addConstrs((sum(x[i,j] for j in range(N)) == 1 for i in range(N)))\n",
    "model.addConstr(sum(y[j] for j in range(N))==K)\n",
    "model.addConstrs((x[i,j]<=y[j] for i in range(N) for j in range(N)))\n",
    "\n",
    "model.optimize()\n"
   ]
  },
  {
   "cell_type": "code",
   "execution_count": 9,
   "metadata": {},
   "outputs": [
    {
     "name": "stdout",
     "output_type": "stream",
     "text": [
      "1.54028E+04\n"
     ]
    }
   ],
   "source": [
    "#Converto la soluzione nel formato utilizzato dalle euristiche:\n",
    "\n",
    "centroids = []\n",
    "for j in range(N):\n",
    "    if y[j].X == 1:\n",
    "        centroids.append(j)\n",
    "\n",
    "sol = np.zeros(N)\n",
    "\n",
    "for i in range(N):\n",
    "    for cluster,j in enumerate(centroids):\n",
    "        if x[i,j].X == 1:\n",
    "            sol[i] = cluster\n",
    "\n",
    "\n",
    "print(\"{:.5E}\".format(squared_inner_distance(sol, points, K)))"
   ]
  }
 ],
 "metadata": {
  "interpreter": {
   "hash": "e03b612d84ba21ce95ed447e81b3062e1eb99b56c6d885cdab4aaa12f1b8e240"
  },
  "kernelspec": {
   "display_name": "Python 3.8.5 ('base')",
   "language": "python",
   "name": "python3"
  },
  "language_info": {
   "codemirror_mode": {
    "name": "ipython",
    "version": 3
   },
   "file_extension": ".py",
   "mimetype": "text/x-python",
   "name": "python",
   "nbconvert_exporter": "python",
   "pygments_lexer": "ipython3",
   "version": "3.8.5"
  },
  "orig_nbformat": 4
 },
 "nbformat": 4,
 "nbformat_minor": 2
}
