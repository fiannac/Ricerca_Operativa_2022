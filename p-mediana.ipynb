{
 "cells": [
  {
   "cell_type": "code",
   "execution_count": null,
   "metadata": {},
   "outputs": [],
   "source": [
    "import gurobipy as gp\n",
    "import numpy as np\n",
    "import matplotlib.pyplot as plt\n",
    "import random\n",
    "from random import randint\n",
    "from sklearn.datasets import make_blobs\n",
    "from utility import *"
   ]
  },
  {
   "cell_type": "markdown",
   "metadata": {},
   "source": [
    "Caricamento dell'istanza del problema, calcolo delle distanze tra punti"
   ]
  },
  {
   "cell_type": "code",
   "execution_count": null,
   "metadata": {},
   "outputs": [],
   "source": [
    "test = 2\n",
    "\n",
    "points = load_points(f'C:/Users/franc/Documents/GitHub/Ricerca_Operativa_2022/Ricerca_Operativa_2022/benchmark/benchmark{test}.txt')\n",
    "n_clusters = [5,5,5,10,5,10,5,5,5,5,4,5,10,5,5]\n",
    "\n",
    "K = n_clusters[test-1]\n",
    "N = len(points)\n",
    "\n",
    "dist = {}\n",
    "\n",
    "for i in range(N):\n",
    "    for j in range(N):\n",
    "        dist[(i,j)] = np.sum((points[i]-points[j])**2)"
   ]
  },
  {
   "cell_type": "markdown",
   "metadata": {},
   "source": [
    "Definizione delle variabili di decisione, funzione obiettivo e dei vincoli del problema di P-Mediana"
   ]
  },
  {
   "cell_type": "code",
   "execution_count": null,
   "metadata": {},
   "outputs": [],
   "source": [
    "model = gp.Model()\n",
    "x = model.addVars(N,N, name = \"X\") #i elemento , j centroide\n",
    "y = model.addVars(N, vtype = gp.GRB.BINARY, name = \"Y\")\n",
    "\n",
    "obj = model.setObjective(x.prod(dist), gp.GRB.MINIMIZE)\n",
    "\n",
    "model.addConstrs((sum(x[i,j] for j in range(N)) == 1 for i in range(N)))\n",
    "model.addConstr(sum(y[j] for j in range(N))==K)\n",
    "model.addConstrs((x[i,j]<=y[j] for i in range(N) for j in range(N)))\n",
    "\n",
    "model.optimize()\n"
   ]
  },
  {
   "cell_type": "markdown",
   "metadata": {},
   "source": [
    "Valutazione della soluzione ottenuta"
   ]
  },
  {
   "cell_type": "code",
   "execution_count": null,
   "metadata": {},
   "outputs": [],
   "source": [
    "#Converto la soluzione nel formato utilizzato dalle euristiche:\n",
    "\n",
    "centroids = []\n",
    "for j in range(N):\n",
    "    if y[j].X == 1:\n",
    "        centroids.append(j)\n",
    "\n",
    "sol = np.zeros(N)\n",
    "\n",
    "for i in range(N):\n",
    "    for cluster,j in enumerate(centroids):\n",
    "        if x[i,j].X == 1:\n",
    "            sol[i] = cluster\n",
    "\n",
    "\n",
    "print(\"{}\".format(squared_inner_distance(sol, points, K)))\n",
    "\n",
    "printR2sol(points, sol, K)"
   ]
  }
 ],
 "metadata": {
  "interpreter": {
   "hash": "e03b612d84ba21ce95ed447e81b3062e1eb99b56c6d885cdab4aaa12f1b8e240"
  },
  "kernelspec": {
   "display_name": "Python 3.8.5 ('base')",
   "language": "python",
   "name": "python3"
  },
  "language_info": {
   "codemirror_mode": {
    "name": "ipython",
    "version": 3
   },
   "file_extension": ".py",
   "mimetype": "text/x-python",
   "name": "python",
   "nbconvert_exporter": "python",
   "pygments_lexer": "ipython3",
   "version": "3.8.5"
  },
  "orig_nbformat": 4
 },
 "nbformat": 4,
 "nbformat_minor": 2
}
