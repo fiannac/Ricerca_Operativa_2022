{
 "cells": [
  {
   "cell_type": "code",
   "execution_count": 37,
   "metadata": {},
   "outputs": [],
   "source": [
    "import gurobipy as gp\n",
    "import numpy as np\n",
    "import matplotlib.pyplot as plt\n",
    "import random\n",
    "from random import randint\n",
    "from sklearn.datasets import make_blobs\n",
    "from utility import *"
   ]
  },
  {
   "cell_type": "code",
   "execution_count": 38,
   "metadata": {},
   "outputs": [],
   "source": [
    "points = load_points(f'C:/Users/franc/Documents/GitHub/Ricerca_Operativa_2022/Ricerca_Operativa_2022/benchmark/benchmark{8}.txt')\n",
    "\n",
    "K = 5\n",
    "N = len(points)\n",
    "\n",
    "dist = {}\n",
    "\n",
    "for i in range(N):\n",
    "    for j in range(N):\n",
    "        dist[(i,j)] = np.sum((points[i]-points[j])**2)"
   ]
  },
  {
   "cell_type": "code",
   "execution_count": 39,
   "metadata": {},
   "outputs": [
    {
     "name": "stdout",
     "output_type": "stream",
     "text": [
      "Gurobi Optimizer version 9.5.1 build v9.5.1rc2 (win64)\n",
      "Thread count: 4 physical cores, 8 logical processors, using up to 8 threads\n",
      "Optimize a model with 490701 rows, 490700 columns and 1470700 nonzeros\n",
      "Model fingerprint: 0x0fa9d914\n",
      "Variable types: 0 continuous, 490700 integer (490700 binary)\n",
      "Coefficient statistics:\n",
      "  Matrix range     [1e+00, 1e+00]\n",
      "  Objective range  [8e+00, 3e+03]\n",
      "  Bounds range     [1e+00, 1e+00]\n",
      "  RHS range        [1e+00, 5e+00]\n",
      "Presolve removed 0 rows and 0 columns (presolve time = 5s) ...\n",
      "Presolve time: 7.31s\n",
      "Presolved: 490701 rows, 490700 columns, 1470700 nonzeros\n",
      "Variable types: 0 continuous, 490700 integer (490700 binary)\n",
      "Found heuristic solution: objective 148607.54987\n",
      "\n",
      "Deterministic concurrent LP optimizer: primal and dual simplex\n",
      "Showing first log only...\n",
      "\n",
      "\n",
      "Root simplex log...\n",
      "\n",
      "Iteration    Objective       Primal Inf.    Dual Inf.      Time\n",
      "       0    1.4675744e+05   0.000000e+00   1.981554e+08     12s\n",
      "   80162    1.2214751e+05   0.000000e+00   5.724057e+08     15s\n",
      "   90718    1.1276358e+05   0.000000e+00   4.344230e+08     20s\n",
      "   99090    9.2506706e+04   0.000000e+00   4.389591e+09     25s\n",
      "  106370    7.4134441e+04   0.000000e+00   2.963022e+08     30s\n",
      "  113650    5.4468375e+04   0.000000e+00   1.175225e+09     35s\n",
      "  121658    5.2359676e+04   0.000000e+00   3.204516e+08     40s\n",
      "  129666    2.8047762e+04   0.000000e+00   2.442275e+08     45s\n",
      "  135854    2.0765212e+04   0.000000e+00   2.473534e+07     50s\n",
      "Concurrent spin time: 0.02s\n",
      "\n",
      "Solved with dual simplex\n",
      "\n",
      "Root relaxation: objective 1.934827e+04, 40509 iterations, 42.69 seconds (19.67 work units)\n",
      "\n",
      "    Nodes    |    Current Node    |     Objective Bounds      |     Work\n",
      " Expl Unexpl |  Obj  Depth IntInf | Incumbent    BestBd   Gap | It/Node Time\n",
      "\n",
      "*    0     0               0    19348.267223 19348.2672  0.00%     -   52s\n",
      "\n",
      "Explored 1 nodes (40509 simplex iterations) in 52.70 seconds (25.87 work units)\n",
      "Thread count was 8 (of 8 available processors)\n",
      "\n",
      "Solution count 2: 19348.3 148608 \n",
      "\n",
      "Optimal solution found (tolerance 1.00e-04)\n",
      "Best objective 1.934826722259e+04, best bound 1.934826722259e+04, gap 0.0000%\n"
     ]
    }
   ],
   "source": [
    "model = gp.Model()\n",
    "x = model.addVars(N,N, vtype = gp.GRB.BINARY, name = \"X\") #i elemento , j centroide\n",
    "y = model.addVars(N, vtype = gp.GRB.BINARY, name = \"Y\")\n",
    "\n",
    "obj = model.setObjective(x.prod(dist), gp.GRB.MINIMIZE)\n",
    "\n",
    "model.addConstrs((sum(x[i,j] for j in range(N)) == 1 for i in range(N)))\n",
    "model.addConstr(sum(y[j] for j in range(N))==K)\n",
    "model.addConstrs((x[i,j]<=y[j] for i in range(N) for j in range(N)))\n",
    "\n",
    "model.optimize()\n"
   ]
  },
  {
   "cell_type": "code",
   "execution_count": 40,
   "metadata": {},
   "outputs": [
    {
     "name": "stdout",
     "output_type": "stream",
     "text": [
      "13695.301455840068\n"
     ]
    }
   ],
   "source": [
    "#Converto la soluzione nel formato utilizzato dalle euristiche:\n",
    "\n",
    "centroids = []\n",
    "for j in range(N):\n",
    "    if y[j].X == 1:\n",
    "        centroids.append(j)\n",
    "\n",
    "sol = np.zeros(N)\n",
    "\n",
    "for i in range(N):\n",
    "    for cluster,j in enumerate(centroids):\n",
    "        if x[i,j].X == 1:\n",
    "            sol[i] = cluster\n",
    "\n",
    "\n",
    "print(\"{}\".format(squared_inner_distance(sol, points, K)))"
   ]
  }
 ],
 "metadata": {
  "interpreter": {
   "hash": "e03b612d84ba21ce95ed447e81b3062e1eb99b56c6d885cdab4aaa12f1b8e240"
  },
  "kernelspec": {
   "display_name": "Python 3.8.5 ('base')",
   "language": "python",
   "name": "python3"
  },
  "language_info": {
   "codemirror_mode": {
    "name": "ipython",
    "version": 3
   },
   "file_extension": ".py",
   "mimetype": "text/x-python",
   "name": "python",
   "nbconvert_exporter": "python",
   "pygments_lexer": "ipython3",
   "version": "3.8.5"
  },
  "orig_nbformat": 4
 },
 "nbformat": 4,
 "nbformat_minor": 2
}
