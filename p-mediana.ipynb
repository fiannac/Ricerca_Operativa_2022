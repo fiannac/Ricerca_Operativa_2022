{
 "cells": [
  {
   "cell_type": "code",
   "execution_count": 3,
   "metadata": {},
   "outputs": [],
   "source": [
    "import gurobipy as gp\n",
    "import numpy as np\n",
    "import matplotlib.pyplot as plt\n",
    "import random\n",
    "from random import randint\n",
    "from sklearn.datasets import make_blobs\n",
    "from utility import *\n",
    "import os"
   ]
  },
  {
   "cell_type": "markdown",
   "metadata": {},
   "source": [
    "# P-Mediana\n",
    "\n",
    "Soluzione del problema di clustering ottenuta risolvendo all'esatto, tramite il solutore gurobi, il problema di programmazione lineare intera di p-mediana.\n",
    "\n",
    "Il programma, dopo aver caricato l'istanza di un problema di clustering, calcolate tutte le distanze $d_{i,j}$ tra tutte le coppie di punti, definisce il modello di PLI e procede a risolverlo."
   ]
  },
  {
   "cell_type": "markdown",
   "metadata": {},
   "source": [
    "Calcolo delle distanze, necessarie per la definizione del modello di PLI."
   ]
  },
  {
   "cell_type": "code",
   "execution_count": 9,
   "metadata": {},
   "outputs": [],
   "source": [
    "dirname = os.path.dirname(\"__file__\")\n",
    "test = 3\n",
    "filename = os.path.join(dirname, f'benchmark/benchmark{test}.txt')\n",
    "points = load_points(filename)\n",
    "n_clusters = [5,5,5,10,5,10,5,5,5,5,4,5,10,5,5]\n",
    "\n",
    "K = n_clusters[test-1]\n",
    "N = len(points)\n",
    "\n",
    "dist = {}\n",
    "\n",
    "for i in range(N):\n",
    "    for j in range(N):\n",
    "        dist[(i,j)] = np.sum((points[i]-points[j])**2)"
   ]
  },
  {
   "cell_type": "markdown",
   "metadata": {},
   "source": [
    "# Formulazione del problema\n",
    "\n",
    "### Variabili\n",
    "\n",
    "- $y_{i}$ : Variabile binaria che descrive l'utilizzo del punto $i$ come centroide di un cluster.\n",
    "\n",
    "- $x_{i,j}$: Variabile binaria che determina se il punto $j$ è raggruppato nel cluster con centroide $i$. Queste variabili possono essere in realtà modellate come intera data la totale unimodularità della matrice dei vincoli.\n",
    "### Funzione obiettivo\n",
    "Minimizza la distanza di ogni punto dal proprio centroide:\n",
    "\n",
    "$$\n",
    "\\text{Minimize} \\quad  \\sum_{i=1}^N\\sum_{j=1}^N d_{i,j}x_{i,j} \n",
    "$$\n",
    "\n",
    "### Vincoli\n",
    "- Esattamente K punti devono essere scelti come centroidi:\n",
    "\n",
    "$$\n",
    "  \\sum_{i = 1}^N y_{i} = K \\quad \\quad\n",
    "$$\n",
    "\n",
    "- Ogni punto $j$ deve essere connesso ad un centroide:\n",
    "\n",
    "$$\n",
    "  \\sum_{i = 1}^N x_{i,j} = 1 \\quad \\quad i \\in \\{1,2,...,N\\}\n",
    "$$\n",
    "\n",
    "- Un punto $j$ può essere connesso ad un altro $i$ solo se $i$ è stato scelto come centroide:\n",
    "\n",
    "$$\n",
    "  0 \\le x_{i,j} \\le y_i \\quad \\quad i,j \\in \\{1,2,...,N\\}\n",
    "$$"
   ]
  },
  {
   "cell_type": "code",
   "execution_count": 6,
   "metadata": {},
   "outputs": [
    {
     "name": "stdout",
     "output_type": "stream",
     "text": [
      "Set parameter Username\n",
      "Academic license - for non-commercial use only - expires 2022-08-01\n",
      "Gurobi Optimizer version 9.5.1 build v9.5.1rc2 (win64)\n",
      "Thread count: 4 physical cores, 8 logical processors, using up to 8 threads\n",
      "Optimize a model with 250501 rows, 250500 columns and 750500 nonzeros\n",
      "Model fingerprint: 0x5edfc58c\n",
      "Variable types: 250000 continuous, 500 integer (500 binary)\n",
      "Coefficient statistics:\n",
      "  Matrix range     [1e+00, 1e+00]\n",
      "  Objective range  [6e-05, 3e+02]\n",
      "  Bounds range     [1e+00, 1e+00]\n",
      "  RHS range        [1e+00, 5e+00]\n",
      "Presolve time: 1.71s\n",
      "Presolved: 250501 rows, 250500 columns, 750500 nonzeros\n",
      "Variable types: 250000 continuous, 500 integer (500 binary)\n",
      "Found heuristic solution: objective 774.7191716\n",
      "\n",
      "Deterministic concurrent LP optimizer: primal and dual simplex\n",
      "Showing first log only...\n",
      "\n",
      "\n",
      "Root simplex log...\n",
      "\n",
      "Iteration    Objective       Primal Inf.    Dual Inf.      Time\n",
      "   79373    2.8509160e+03   0.000000e+00   3.502337e+06      5s\n",
      "   97934    1.7297689e+03   0.000000e+00   2.020615e+06     10s\n",
      "  110846    1.3407860e+03   0.000000e+00   1.928486e+06     15s\n",
      "Concurrent spin time: 0.04s\n",
      "\n",
      "Solved with dual simplex\n",
      "\n",
      "Root relaxation: objective 6.253827e+02, 31052 iterations, 13.34 seconds (7.21 work units)\n",
      "\n",
      "    Nodes    |    Current Node    |     Objective Bounds      |     Work\n",
      " Expl Unexpl |  Obj  Depth IntInf | Incumbent    BestBd   Gap | It/Node Time\n",
      "\n",
      "*    0     0               0     625.3826913  625.38269  0.00%     -   16s\n",
      "\n",
      "Explored 1 nodes (31052 simplex iterations) in 16.86 seconds (9.75 work units)\n",
      "Thread count was 8 (of 8 available processors)\n",
      "\n",
      "Solution count 2: 625.383 774.719 \n",
      "\n",
      "Optimal solution found (tolerance 1.00e-04)\n",
      "Best objective 6.253826912506e+02, best bound 6.253826912506e+02, gap 0.0000%\n"
     ]
    }
   ],
   "source": [
    "model = gp.Model()\n",
    "x = model.addVars(N,N, name = \"X\") #i elemento , j centroide\n",
    "y = model.addVars(N, vtype = gp.GRB.BINARY, name = \"Y\")\n",
    "\n",
    "obj = model.setObjective(x.prod(dist), gp.GRB.MINIMIZE)\n",
    "\n",
    "model.addConstrs((sum(x[i,j] for j in range(N)) == 1 for i in range(N)))\n",
    "model.addConstr(sum(y[j] for j in range(N))==K)\n",
    "model.addConstrs((x[i,j]<=y[j] for i in range(N) for j in range(N)))\n",
    "\n",
    "model.optimize()"
   ]
  },
  {
   "cell_type": "markdown",
   "metadata": {},
   "source": [
    "Valutazione della soluzione ottenuta tramite la metrica di squared inner distance e stampa della soluzione"
   ]
  },
  {
   "cell_type": "code",
   "execution_count": 7,
   "metadata": {},
   "outputs": [
    {
     "name": "stdout",
     "output_type": "stream",
     "text": [
      "614.4681885487528\n"
     ]
    },
    {
     "data": {
      "image/png": "[encoded data removed]",
      "text/plain": [
       "<Figure size 432x288 with 1 Axes>"
      ]
     },
     "metadata": {
      "needs_background": "light"
     },
     "output_type": "display_data"
    }
   ],
   "source": [
    "centroids = []\n",
    "for j in range(N):\n",
    "    if y[j].X == 1:\n",
    "        centroids.append(j)\n",
    "\n",
    "sol = np.zeros(N)\n",
    "\n",
    "for i in range(N):\n",
    "    for cluster,j in enumerate(centroids):\n",
    "        if x[i,j].X == 1:\n",
    "            sol[i] = cluster\n",
    "\n",
    "\n",
    "print(\"{}\".format(squared_inner_distance(sol, points, K)))\n",
    "\n",
    "printR2sol(points, sol, K)"
   ]
  }
 ],
 "metadata": {
  "kernelspec": {
   "display_name": "Python 3.8.5 ('base')",
   "language": "python",
   "name": "python3"
  },
  "language_info": {
   "codemirror_mode": {
    "name": "ipython",
    "version": 3
   },
   "file_extension": ".py",
   "mimetype": "text/x-python",
   "name": "python",
   "nbconvert_exporter": "python",
   "pygments_lexer": "ipython3",
   "version": "3.8.5"
  },
  "orig_nbformat": 4,
  "vscode": {
   "interpreter": {
    "hash": "e03b612d84ba21ce95ed447e81b3062e1eb99b56c6d885cdab4aaa12f1b8e240"
   }
  }
 },
 "nbformat": 4,
 "nbformat_minor": 2
}
