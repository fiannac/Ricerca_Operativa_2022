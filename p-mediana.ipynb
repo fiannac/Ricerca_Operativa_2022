{
 "cells": [
  {
   "cell_type": "code",
   "execution_count": 1,
   "metadata": {},
   "outputs": [],
   "source": [
    "import gurobipy as gp\n",
    "import numpy as np\n",
    "import matplotlib.pyplot as plt\n",
    "import random\n",
    "from random import randint\n",
    "\n",
    "from utility import *"
   ]
  },
  {
   "cell_type": "code",
   "execution_count": 2,
   "metadata": {},
   "outputs": [],
   "source": [
    "points = load_points('C:/Users/franc/Desktop/prova.txt')\n",
    "K = 15\n",
    "N = len(points)\n",
    "\n",
    "dist = {}\n",
    "\n",
    "for i in range(N):\n",
    "    for j in range(N):\n",
    "        dist[(i,j)] = np.sum((points[i]-points[j])**2)"
   ]
  },
  {
   "cell_type": "code",
   "execution_count": 3,
   "metadata": {},
   "outputs": [
    {
     "name": "stdout",
     "output_type": "stream",
     "text": [
      "Set parameter Username\n",
      "Academic license - for non-commercial use only - expires 2022-08-01\n"
     ]
    },
    {
     "ename": "KeyboardInterrupt",
     "evalue": "",
     "output_type": "error",
     "traceback": [
      "\u001b[1;31m---------------------------------------------------------------------------\u001b[0m",
      "\u001b[1;31mKeyboardInterrupt\u001b[0m                         Traceback (most recent call last)",
      "\u001b[1;32mc:\\Users\\franc\\Desktop\\progetto\\p-mediana.ipynb Cell 3'\u001b[0m in \u001b[0;36m<cell line: 9>\u001b[1;34m()\u001b[0m\n\u001b[0;32m      <a href='vscode-notebook-cell:/c%3A/Users/franc/Desktop/progetto/p-mediana.ipynb#ch0000002?line=6'>7</a>\u001b[0m model\u001b[39m.\u001b[39maddConstrs((\u001b[39msum\u001b[39m(x[i,j] \u001b[39mfor\u001b[39;00m j \u001b[39min\u001b[39;00m \u001b[39mrange\u001b[39m(N)) \u001b[39m==\u001b[39m \u001b[39m1\u001b[39m \u001b[39mfor\u001b[39;00m i \u001b[39min\u001b[39;00m \u001b[39mrange\u001b[39m(N)))\n\u001b[0;32m      <a href='vscode-notebook-cell:/c%3A/Users/franc/Desktop/progetto/p-mediana.ipynb#ch0000002?line=7'>8</a>\u001b[0m model\u001b[39m.\u001b[39maddConstr(\u001b[39msum\u001b[39m(y[j] \u001b[39mfor\u001b[39;00m j \u001b[39min\u001b[39;00m \u001b[39mrange\u001b[39m(N))\u001b[39m==\u001b[39mK)\n\u001b[1;32m----> <a href='vscode-notebook-cell:/c%3A/Users/franc/Desktop/progetto/p-mediana.ipynb#ch0000002?line=8'>9</a>\u001b[0m model\u001b[39m.\u001b[39;49maddConstrs((x[i,j]\u001b[39m<\u001b[39;49m\u001b[39m=\u001b[39;49my[j] \u001b[39mfor\u001b[39;49;00m i \u001b[39min\u001b[39;49;00m \u001b[39mrange\u001b[39;49m(N) \u001b[39mfor\u001b[39;49;00m j \u001b[39min\u001b[39;49;00m \u001b[39mrange\u001b[39;49m(N)))\n\u001b[0;32m     <a href='vscode-notebook-cell:/c%3A/Users/franc/Desktop/progetto/p-mediana.ipynb#ch0000002?line=10'>11</a>\u001b[0m model\u001b[39m.\u001b[39moptimize()\n",
      "File \u001b[1;32msrc\\gurobipy\\model.pxi:3535\u001b[0m, in \u001b[0;36mgurobipy.Model.addConstrs\u001b[1;34m()\u001b[0m\n",
      "\u001b[1;32mc:\\Users\\franc\\Desktop\\progetto\\p-mediana.ipynb Cell 3'\u001b[0m in \u001b[0;36m<genexpr>\u001b[1;34m(.0)\u001b[0m\n\u001b[0;32m      <a href='vscode-notebook-cell:/c%3A/Users/franc/Desktop/progetto/p-mediana.ipynb#ch0000002?line=6'>7</a>\u001b[0m model\u001b[39m.\u001b[39maddConstrs((\u001b[39msum\u001b[39m(x[i,j] \u001b[39mfor\u001b[39;00m j \u001b[39min\u001b[39;00m \u001b[39mrange\u001b[39m(N)) \u001b[39m==\u001b[39m \u001b[39m1\u001b[39m \u001b[39mfor\u001b[39;00m i \u001b[39min\u001b[39;00m \u001b[39mrange\u001b[39m(N)))\n\u001b[0;32m      <a href='vscode-notebook-cell:/c%3A/Users/franc/Desktop/progetto/p-mediana.ipynb#ch0000002?line=7'>8</a>\u001b[0m model\u001b[39m.\u001b[39maddConstr(\u001b[39msum\u001b[39m(y[j] \u001b[39mfor\u001b[39;00m j \u001b[39min\u001b[39;00m \u001b[39mrange\u001b[39m(N))\u001b[39m==\u001b[39mK)\n\u001b[1;32m----> <a href='vscode-notebook-cell:/c%3A/Users/franc/Desktop/progetto/p-mediana.ipynb#ch0000002?line=8'>9</a>\u001b[0m model\u001b[39m.\u001b[39maddConstrs((x[i,j]\u001b[39m<\u001b[39m\u001b[39m=\u001b[39my[j] \u001b[39mfor\u001b[39;00m i \u001b[39min\u001b[39;00m \u001b[39mrange\u001b[39m(N) \u001b[39mfor\u001b[39;00m j \u001b[39min\u001b[39;00m \u001b[39mrange\u001b[39m(N)))\n\u001b[0;32m     <a href='vscode-notebook-cell:/c%3A/Users/franc/Desktop/progetto/p-mediana.ipynb#ch0000002?line=10'>11</a>\u001b[0m model\u001b[39m.\u001b[39moptimize()\n",
      "\u001b[1;31mKeyboardInterrupt\u001b[0m: "
     ]
    }
   ],
   "source": [
    "model = gp.Model()\n",
    "x = model.addVars(N,N, vtype = gp.GRB.BINARY, name = \"X\") #i elemento , j centroide\n",
    "y = model.addVars(N, vtype = gp.GRB.BINARY, name = \"Y\")\n",
    "\n",
    "obj = model.setObjective(x.prod(dist), gp.GRB.MINIMIZE)\n",
    "\n",
    "model.addConstrs((sum(x[i,j] for j in range(N)) == 1 for i in range(N)))\n",
    "model.addConstr(sum(y[j] for j in range(N))==K)\n",
    "model.addConstrs((x[i,j]<=y[j] for i in range(N) for j in range(N)))\n",
    "\n",
    "model.optimize()\n"
   ]
  },
  {
   "cell_type": "code",
   "execution_count": 8,
   "metadata": {},
   "outputs": [
    {
     "name": "stdout",
     "output_type": "stream",
     "text": [
      "3.91030E+10\n"
     ]
    }
   ],
   "source": [
    "#Converto la soluzione nel formato utilizzato dalle euristiche:\n",
    "\n",
    "centroids = []\n",
    "for j in range(N):\n",
    "    if y[j].X == 1:\n",
    "        centroids.append(j)\n",
    "\n",
    "sol = np.zeros(N)\n",
    "\n",
    "for i in range(N):\n",
    "    for cluster,j in enumerate(centroids):\n",
    "        if x[i,j].X == 1:\n",
    "            sol[i] = cluster\n",
    "\n",
    "\n",
    "print(\"{:.5E}\".format(squared_inner_distance(sol, points, K)))"
   ]
  }
 ],
 "metadata": {
  "interpreter": {
   "hash": "e03b612d84ba21ce95ed447e81b3062e1eb99b56c6d885cdab4aaa12f1b8e240"
  },
  "kernelspec": {
   "display_name": "Python 3.8.5 ('base')",
   "language": "python",
   "name": "python3"
  },
  "language_info": {
   "codemirror_mode": {
    "name": "ipython",
    "version": 3
   },
   "file_extension": ".py",
   "mimetype": "text/x-python",
   "name": "python",
   "nbconvert_exporter": "python",
   "pygments_lexer": "ipython3",
   "version": "3.8.5"
  },
  "orig_nbformat": 4
 },
 "nbformat": 4,
 "nbformat_minor": 2
}
