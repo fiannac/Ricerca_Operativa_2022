{
 "cells": [
  {
   "cell_type": "code",
   "execution_count": null,
   "metadata": {},
   "outputs": [],
   "source": [
    "import gurobipy as gp\n",
    "import numpy as np\n",
    "import matplotlib.pyplot as plt\n",
    "import random\n",
    "from random import randint\n",
    "from sklearn.datasets import make_blobs\n",
    "from utility import *\n",
    "import os"
   ]
  },
  {
   "cell_type": "markdown",
   "metadata": {},
   "source": [
    "# P-Mediana\n",
    "\n",
    "Soluzione del problema di clustering ottenuta risolvendo all'esatto, tramite il solutore gurobi, il problema di programmazione lineare intera di p-mediana.\n",
    "\n",
    "Il programma, dopo aver caricato l'istanza di un problema di clustering, calcolate tutte le distanze $d_{i,j}$ tra tutte le coppie di punti, definisce il modello di PLI e procede a risolverlo."
   ]
  },
  {
   "cell_type": "markdown",
   "metadata": {},
   "source": [
    "Calcolo delle distanze, necessarie per la definizione del modello di PLI."
   ]
  },
  {
   "cell_type": "code",
   "execution_count": null,
   "metadata": {},
   "outputs": [],
   "source": [
    "dirname = os.path.dirname(\"__file__\")\n",
    "filename = os.path.join(dirname, 'benchmark/benchmark{8}.txt')\n",
    "points = load_points(filename)\n",
    "\n",
    "points = load_points(f'C:/Users/franc/Documents/GitHub/Ricerca_Operativa_2022/Ricerca_Operativa_2022/benchmark/benchmark{test}.txt')\n",
    "n_clusters = [5,5,5,10,5,10,5,5,5,5,4,5,10,5,5]\n",
    "\n",
    "K = n_clusters[test-1]\n",
    "N = len(points)\n",
    "\n",
    "dist = {}\n",
    "\n",
    "for i in range(N):\n",
    "    for j in range(N):\n",
    "        dist[(i,j)] = np.sum((points[i]-points[j])**2)"
   ]
  },
  {
   "cell_type": "markdown",
   "metadata": {},
   "source": [
    "# Formulazione del problema\n",
    "\n",
    "### Variabili\n",
    "\n",
    "- $y_{i}$ : Variabile binaria che descrive l'utilizzo del punto $i$ come centroide di un cluster.\n",
    "\n",
    "- $x_{i,j}$: Variabile binaria che determina se il punto $j$ è raggruppato nel cluster con centroide $i$. Queste variabili possono essere in realtà modellate come intera data la totale unimodularità della matrice dei vincoli.\n",
    "### Funzione obiettivo\n",
    "Minimizza la distanza di ogni punto dal proprio centroide:\n",
    "\n",
    "$$\n",
    "\\text{Minimize} \\quad  \\sum_{i=1}^N\\sum_{j=1}^N d_{i,j}x_{i,j} \n",
    "$$\n",
    "\n",
    "### Vincoli\n",
    "- Esattamente K punti devono essere scelti come centroidi:\n",
    "\n",
    "$$\n",
    "  \\sum_{i = 1}^N y_{i} = K \\quad \\quad\n",
    "$$\n",
    "\n",
    "- Ogni punto $j$ deve essere connesso ad un centroide:\n",
    "\n",
    "$$\n",
    "  \\sum_{i = 1}^N x_{i,j} = 1 \\quad \\quad i \\in \\{1,2,...,N\\}\n",
    "$$\n",
    "\n",
    "- Un punto $j$ può essere connesso ad un altro $i$ solo se $i$ è stato scelto come centroide:\n",
    "\n",
    "$$\n",
    "  0 \\le x_{i,j} \\le y_i \\quad \\quad i,j \\in \\{1,2,...,N\\}\n",
    "$$"
   ]
  },
  {
   "cell_type": "code",
   "execution_count": null,
   "metadata": {},
   "outputs": [],
   "source": [
    "model = gp.Model()\n",
    "x = model.addVars(N,N, name = \"X\") #i elemento , j centroide\n",
    "y = model.addVars(N, vtype = gp.GRB.BINARY, name = \"Y\")\n",
    "\n",
    "obj = model.setObjective(x.prod(dist), gp.GRB.MINIMIZE)\n",
    "\n",
    "model.addConstrs((sum(x[i,j] for j in range(N)) == 1 for i in range(N)))\n",
    "model.addConstr(sum(y[j] for j in range(N))==K)\n",
    "model.addConstrs((x[i,j]<=y[j] for i in range(N) for j in range(N)))\n",
    "\n",
    "model.optimize()\n"
   ]
  },
  {
   "cell_type": "markdown",
   "metadata": {},
   "source": [
    "Valutazione della soluzione ottenuta tramite la metrica di squared inner distance e stampa della soluzione"
   ]
  },
  {
   "cell_type": "code",
   "execution_count": null,
   "metadata": {},
   "outputs": [],
   "source": [
    "centroids = []\n",
    "for j in range(N):\n",
    "    if y[j].X == 1:\n",
    "        centroids.append(j)\n",
    "\n",
    "sol = np.zeros(N)\n",
    "\n",
    "for i in range(N):\n",
    "    for cluster,j in enumerate(centroids):\n",
    "        if x[i,j].X == 1:\n",
    "            sol[i] = cluster\n",
    "\n",
    "\n",
    "print(\"{}\".format(squared_inner_distance(sol, points, K)))\n",
    "\n",
    "printR2sol(points, sol, K)"
   ]
  }
 ],
 "metadata": {
  "kernelspec": {
   "display_name": "Python 3.8.5 ('base')",
   "language": "python",
   "name": "python3"
  },
  "language_info": {
   "codemirror_mode": {
    "name": "ipython",
    "version": 3
   },
   "file_extension": ".py",
   "mimetype": "text/x-python",
   "name": "python",
   "nbconvert_exporter": "python",
   "pygments_lexer": "ipython3",
   "version": "3.8.5"
  },
  "orig_nbformat": 4,
  "vscode": {
   "interpreter": {
    "hash": "7441139c53f2b833c4015f797d2dbdb1c0994f83a932996f213ed98bc2a18fd3"
   }
  }
 },
 "nbformat": 4,
 "nbformat_minor": 2
}
