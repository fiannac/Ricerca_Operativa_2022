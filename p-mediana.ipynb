{
 "cells": [
  {
   "cell_type": "code",
   "execution_count": null,
   "metadata": {},
   "outputs": [],
   "source": [
    "import gurobipy as gp\n",
    "import numpy as np\n",
    "import matplotlib.pyplot as plt\n",
    "import random\n",
    "from random import randint\n",
    "from sklearn.datasets import make_blobs\n",
    "from utility import *\n",
    "import os"
   ]
  },
  {
   "cell_type": "markdown",
   "metadata": {},
   "source": [
    "Viene importata un'istanza di benchmark e definita la metrica di distanza tra due punti"
   ]
  },
  {
   "cell_type": "code",
   "execution_count": null,
   "metadata": {},
   "outputs": [],
   "source": [
    "dirname = os.path.dirname(\"__file__\")\n",
    "filename = os.path.join(dirname, 'benchmark/benchmark{8}.txt')\n",
    "points = load_points(filename)\n",
    "\n",
    "K = 5\n",
    "N = len(points)\n",
    "\n",
    "dist = {}\n",
    "\n",
    "for i in range(N):\n",
    "    for j in range(N):\n",
    "        dist[(i,j)] = np.sum((points[i]-points[j])**2)"
   ]
  },
  {
   "cell_type": "markdown",
   "metadata": {},
   "source": [
    "Viene creato il modello e vengono definiti le variabili di decisione, la funzione obiettivo e i vincoli del problema sotto esame"
   ]
  },
  {
   "cell_type": "code",
   "execution_count": null,
   "metadata": {},
   "outputs": [],
   "source": [
    "model = gp.Model()\n",
    "x = model.addVars(N,N, vtype = gp.GRB.BINARY, name = \"X\") #i elemento , j centroide\n",
    "y = model.addVars(N, vtype = gp.GRB.BINARY, name = \"Y\")\n",
    "\n",
    "obj = model.setObjective(x.prod(dist), gp.GRB.MINIMIZE)\n",
    "\n",
    "model.addConstrs((sum(x[i,j] for j in range(N)) == 1 for i in range(N)))\n",
    "model.addConstr(sum(y[j] for j in range(N))==K)\n",
    "model.addConstrs((x[i,j]<=y[j] for i in range(N) for j in range(N)))\n",
    "\n",
    "model.optimize()\n"
   ]
  },
  {
   "cell_type": "markdown",
   "metadata": {},
   "source": [
    "La soluzione viene convertita nel formato utilizzato dalle euristiche, per chiamare la funzione squared_inner_distance"
   ]
  },
  {
   "cell_type": "code",
   "execution_count": null,
   "metadata": {},
   "outputs": [],
   "source": [
    "centroids = []\n",
    "for j in range(N):\n",
    "    if y[j].X == 1:\n",
    "        centroids.append(j)\n",
    "\n",
    "sol = np.zeros(N)\n",
    "\n",
    "for i in range(N):\n",
    "    for cluster,j in enumerate(centroids):\n",
    "        if x[i,j].X == 1:\n",
    "            sol[i] = cluster\n",
    "\n",
    "\n",
    "print(\"{}\".format(squared_inner_distance(sol, points, K)))"
   ]
  }
 ],
 "metadata": {
  "kernelspec": {
   "display_name": "Python 3.8.5 ('base')",
   "language": "python",
   "name": "python3"
  },
  "language_info": {
   "codemirror_mode": {
    "name": "ipython",
    "version": 3
   },
   "file_extension": ".py",
   "mimetype": "text/x-python",
   "name": "python",
   "nbconvert_exporter": "python",
   "pygments_lexer": "ipython3",
   "version": "3.8.5"
  },
  "orig_nbformat": 4,
  "vscode": {
   "interpreter": {
    "hash": "7441139c53f2b833c4015f797d2dbdb1c0994f83a932996f213ed98bc2a18fd3"
   }
  }
 },
 "nbformat": 4,
 "nbformat_minor": 2
}
