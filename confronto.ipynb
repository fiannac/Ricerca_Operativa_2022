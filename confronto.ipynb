{
 "cells": [
  {
   "cell_type": "code",
   "execution_count": 7,
   "metadata": {},
   "outputs": [],
   "source": [
    "import numpy as np\n",
    "from random import choices, randrange\n",
    "import random\n",
    "import matplotlib.pyplot as plt\n",
    "from numba import njit\n",
    "from sklearn.datasets import make_blobs\n",
    "from utility import *\n",
    "from tqdm import tqdm\n"
   ]
  },
  {
   "cell_type": "code",
   "execution_count": 9,
   "metadata": {},
   "outputs": [
    {
     "name": "stderr",
     "output_type": "stream",
     "text": [
      "  0%|          | 0/5 [00:00<?, ?it/s]"
     ]
    },
    {
     "name": "stdout",
     "output_type": "stream",
     "text": [
      "Kmeans completo\n",
      "File in aggiornamento...\n",
      "Sa completo\n",
      "File in aggiornamento...\n",
      "LS completo\n",
      "File in aggiornamento...\n",
      "Kmeans completo\n",
      "File in aggiornamento...\n",
      "Sa completo\n",
      "File in aggiornamento...\n",
      "LS completo\n",
      "File in aggiornamento...\n",
      "Kmeans completo\n",
      "File in aggiornamento...\n",
      "Sa completo\n",
      "File in aggiornamento...\n",
      "LS completo\n",
      "File in aggiornamento...\n",
      "Kmeans completo\n",
      "File in aggiornamento...\n",
      "Sa completo\n",
      "File in aggiornamento...\n",
      "LS completo\n",
      "File in aggiornamento...\n",
      "Kmeans completo\n",
      "File in aggiornamento...\n",
      "Sa completo\n",
      "File in aggiornamento...\n"
     ]
    },
    {
     "name": "stderr",
     "output_type": "stream",
     "text": [
      " 20%|██        | 1/5 [03:12<12:50, 192.72s/it]"
     ]
    },
    {
     "name": "stdout",
     "output_type": "stream",
     "text": [
      "LS completo\n",
      "File in aggiornamento...\n",
      "Kmeans completo\n",
      "File in aggiornamento...\n",
      "Sa completo\n",
      "File in aggiornamento...\n",
      "LS completo\n",
      "File in aggiornamento...\n",
      "Kmeans completo\n",
      "File in aggiornamento...\n",
      "Sa completo\n",
      "File in aggiornamento...\n",
      "LS completo\n",
      "File in aggiornamento...\n",
      "Kmeans completo\n",
      "File in aggiornamento...\n",
      "Sa completo\n",
      "File in aggiornamento...\n",
      "LS completo\n",
      "File in aggiornamento...\n",
      "Kmeans completo\n",
      "File in aggiornamento...\n",
      "Sa completo\n",
      "File in aggiornamento...\n",
      "LS completo\n",
      "File in aggiornamento...\n",
      "Kmeans completo\n",
      "File in aggiornamento...\n",
      "Sa completo\n",
      "File in aggiornamento...\n"
     ]
    },
    {
     "name": "stderr",
     "output_type": "stream",
     "text": [
      " 40%|████      | 2/5 [13:14<15:46, 315.57s/it]"
     ]
    },
    {
     "name": "stdout",
     "output_type": "stream",
     "text": [
      "LS completo\n",
      "File in aggiornamento...\n",
      "Kmeans completo\n",
      "File in aggiornamento...\n",
      "Sa completo\n",
      "File in aggiornamento...\n",
      "LS completo\n",
      "File in aggiornamento...\n",
      "Kmeans completo\n",
      "File in aggiornamento...\n",
      "Sa completo\n",
      "File in aggiornamento...\n",
      "LS completo\n",
      "File in aggiornamento...\n",
      "Kmeans completo\n",
      "File in aggiornamento...\n",
      "Sa completo\n",
      "File in aggiornamento...\n",
      "LS completo\n",
      "File in aggiornamento...\n",
      "Kmeans completo\n",
      "File in aggiornamento...\n",
      "Sa completo\n",
      "File in aggiornamento...\n",
      "LS completo\n",
      "File in aggiornamento...\n",
      "Kmeans completo\n",
      "File in aggiornamento...\n",
      "Sa completo\n",
      "File in aggiornamento...\n"
     ]
    },
    {
     "name": "stderr",
     "output_type": "stream",
     "text": [
      " 60%|██████    | 3/5 [35:00<20:25, 612.59s/it]"
     ]
    },
    {
     "name": "stdout",
     "output_type": "stream",
     "text": [
      "LS completo\n",
      "File in aggiornamento...\n",
      "Kmeans completo\n",
      "File in aggiornamento...\n",
      "Sa completo\n",
      "File in aggiornamento...\n",
      "LS completo\n",
      "File in aggiornamento...\n",
      "Kmeans completo\n",
      "File in aggiornamento...\n",
      "Sa completo\n",
      "File in aggiornamento...\n",
      "LS completo\n",
      "File in aggiornamento...\n",
      "Kmeans completo\n",
      "File in aggiornamento...\n",
      "Sa completo\n",
      "File in aggiornamento...\n",
      "LS completo\n",
      "File in aggiornamento...\n",
      "Kmeans completo\n",
      "File in aggiornamento...\n",
      "Sa completo\n",
      "File in aggiornamento...\n",
      "LS completo\n",
      "File in aggiornamento...\n",
      "Kmeans completo\n",
      "File in aggiornamento...\n",
      "Sa completo\n",
      "File in aggiornamento...\n"
     ]
    },
    {
     "name": "stderr",
     "output_type": "stream",
     "text": [
      " 80%|████████  | 4/5 [47:59<11:02, 662.41s/it]"
     ]
    },
    {
     "name": "stdout",
     "output_type": "stream",
     "text": [
      "LS completo\n",
      "File in aggiornamento...\n",
      "Kmeans completo\n",
      "File in aggiornamento...\n",
      "Sa completo\n",
      "File in aggiornamento...\n",
      "LS completo\n",
      "File in aggiornamento...\n",
      "Kmeans completo\n",
      "File in aggiornamento...\n",
      "Sa completo\n",
      "File in aggiornamento...\n",
      "LS completo\n",
      "File in aggiornamento...\n",
      "Kmeans completo\n",
      "File in aggiornamento...\n",
      "Sa completo\n",
      "File in aggiornamento...\n",
      "LS completo\n",
      "File in aggiornamento...\n",
      "Kmeans completo\n",
      "File in aggiornamento...\n",
      "Sa completo\n",
      "File in aggiornamento...\n",
      "LS completo\n",
      "File in aggiornamento...\n",
      "Kmeans completo\n",
      "File in aggiornamento...\n",
      "Sa completo\n",
      "File in aggiornamento...\n"
     ]
    },
    {
     "name": "stderr",
     "output_type": "stream",
     "text": [
      "100%|██████████| 5/5 [1:16:50<00:00, 922.02s/it]"
     ]
    },
    {
     "name": "stdout",
     "output_type": "stream",
     "text": [
      "LS completo\n",
      "File in aggiornamento...\n"
     ]
    },
    {
     "name": "stderr",
     "output_type": "stream",
     "text": [
      "\n"
     ]
    }
   ],
   "source": [
    "varianza = [2,1.5,1,0.8,0.4]\n",
    "Ks = [5,10,15,20]\n",
    "\n",
    "for i in tqdm(range(1,6)):\n",
    "    for varn,v in enumerate(varianza):\n",
    "        K = Ks[i%4]\n",
    "        \n",
    "        points, _ = make_blobs(n_samples=i*1000, centers=K, n_features=2, random_state=42, cluster_std=v)\n",
    "        s = f'benchmark{(i-1)*5+varn+25}.txt'\n",
    "        with open(s, 'w') as file:\n",
    "        for p in points:\n",
    "            for coord in p:\n",
    "                file.write(str(coord) + ' ')\n",
    "            file.write('\\n')"
   ]
  }
 ],
 "metadata": {
  "kernelspec": {
   "display_name": "Python 3.8.5 ('base')",
   "language": "python",
   "name": "python3"
  },
  "language_info": {
   "codemirror_mode": {
    "name": "ipython",
    "version": 3
   },
   "file_extension": ".py",
   "mimetype": "text/x-python",
   "name": "python",
   "nbconvert_exporter": "python",
   "pygments_lexer": "ipython3",
   "version": "3.8.5"
  },
  "orig_nbformat": 4,
  "vscode": {
   "interpreter": {
    "hash": "e03b612d84ba21ce95ed447e81b3062e1eb99b56c6d885cdab4aaa12f1b8e240"
   }
  }
 },
 "nbformat": 4,
 "nbformat_minor": 2
}
