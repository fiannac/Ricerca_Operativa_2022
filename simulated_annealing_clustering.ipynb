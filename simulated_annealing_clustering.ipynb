{
 "cells": [
  {
   "cell_type": "code",
   "execution_count": null,
   "metadata": {},
   "outputs": [],
   "source": [
    "import numpy as np\n",
    "from random import choices, randrange\n",
    "import random\n",
    "import matplotlib.pyplot as plt\n",
    "from numba import njit\n",
    "from sklearn.datasets import make_blobs\n",
    "from utility import *\n",
    "from tqdm import tqdm\n",
    "from sklearn.cluster import k_means"
   ]
  },
  {
   "cell_type": "markdown",
   "metadata": {},
   "source": [
    "Implementazione dell'euristica di Simulated Annealing"
   ]
  },
  {
   "cell_type": "code",
   "execution_count": null,
   "metadata": {},
   "outputs": [],
   "source": [
    "def change_sol(sol, K):\n",
    "    new_sol = sol.copy()\n",
    "    n = randrange(len(new_sol))#ritorna un numero casualmente nel range (0, len(new_sol))\n",
    "    old_value = new_sol[n]\n",
    "\n",
    "    while old_value == new_sol[n]:\n",
    "        new_sol[n] = randrange(K)\n",
    "\n",
    "    return new_sol\n",
    "\n",
    "def simulated_annealing(base_sol, points, K, iters, alpha, verbose = True):\n",
    "    best_sol = base_sol\n",
    "    base_val = squared_inner_distance(best_sol, points, K)\n",
    "    best_value = base_val\n",
    "    T = base_val*1/100\n",
    "    Tf = 10**-5\n",
    "    curr_sol = base_sol\n",
    "    curr_val = best_value\n",
    "    iter = 1\n",
    "\n",
    "    old_sol = base_sol\n",
    "    finito = False\n",
    "    no_update = 0\n",
    "\n",
    "    while(finito == False):\n",
    "        if(verbose):\n",
    "            print(\"Iteration number:\", iter, \"Best value percentuale: \", curr_val/base_val*100, \"% T:\", T)\n",
    "        iter = 1 + iter\n",
    "        old_sol = curr_sol\n",
    "        \n",
    "        for i in range(iters):\n",
    "            candidate = change_sol(curr_sol, K)\n",
    "            val_candidate = squared_inner_distance(candidate, points, K)\n",
    "\n",
    "            if(val_candidate < best_value):\n",
    "                best_value = val_candidate#viene memorizzato il best value, perchè potrei perderlo nelle iterazioni successive\n",
    "                best_sol = candidate\n",
    "            \n",
    "            if(val_candidate < curr_val):\n",
    "                curr_val = val_candidate\n",
    "                curr_sol = candidate\n",
    "                no_update = 0\n",
    "            else:\n",
    "                r = random.uniform(0, 1)\n",
    "                delta = abs(curr_val - val_candidate)\n",
    "                tresh = np.exp(-delta/T)\n",
    "                no_update = 0\n",
    "                if(r < tresh):\n",
    "                    curr_val = val_candidate\n",
    "                    curr_sol = candidate\n",
    "                else:\n",
    "                    no_update = no_update + 1\n",
    "\n",
    "        T = alpha*T\n",
    "    \n",
    "        if(no_update == 500 or T <= Tf):\n",
    "            finito = True\n",
    "    return best_sol"
   ]
  },
  {
   "cell_type": "markdown",
   "metadata": {},
   "source": [
    "Creazione di un'istanza di testing con 1000 punti nello spazio R^2 e 5 clusters e testing dell'euristica"
   ]
  },
  {
   "cell_type": "code",
   "execution_count": null,
   "metadata": {},
   "outputs": [],
   "source": [
    "points, centroids = make_blobs(n_samples=1000, centers=5, n_features=2, random_state=2)\n",
    "N = len(points)\n",
    "K = 5\n",
    "\n",
    "sol = create_initial_sol(points, K)\n",
    "sol = simulated_annealing(sol, points, K, 10, 0.99)\n",
    "\n",
    "print(\"{:.5E}\".format(squared_inner_distance(sol, points, K)))\n",
    "\n",
    "printR2sol(points, sol, K)"
   ]
  },
  {
   "cell_type": "code",
   "execution_count": null,
   "metadata": {},
   "outputs": [],
   "source": [
    "n_points = [500,1000,1000,1000,1000,1000,1500,1500,2000,3000,5000,10000]\n",
    "n_clusters = [5,2,4,5,6,7,5,10,5,5,5]\n",
    "dim_points = [32,32,32,32,20,20,18,18,18,16,16,16]\n",
    "vals = []\n",
    "\n",
    "for test in tqdm(range(1,13)):\n",
    "    points = load_points(f'C:/Users/franc/Documents/GitHub/Ricerca_Operativa_2022/Ricerca_Operativa_2022/benchmark/benchmark{test}.txt')\n",
    "    N = len(points)\n",
    "    K = n_clusters[test-1]\n",
    "\n",
    "    sol = create_initial_sol(points, K)\n",
    "    sol = simulated_annealing(sol, points, K, 10, 0.99, False)\n",
    "    val = squared_inner_distance(sol, points, K)\n",
    "    vals.append(val)\n",
    "\n",
    "\n",
    "with open(\"risultatiSA.txt\", 'w') as file:\n",
    "    file.write(\"K-means:\\n\")\n",
    "    file.write(str(vals))"
   ]
  },
  {
   "cell_type": "code",
   "execution_count": null,
   "metadata": {},
   "outputs": [],
   "source": [
    "print(vals)"
   ]
  }
 ],
 "metadata": {
  "kernelspec": {
   "display_name": "Python 3.8.5 ('base')",
   "language": "python",
   "name": "python3"
  },
  "language_info": {
   "codemirror_mode": {
    "name": "ipython",
    "version": 3
   },
   "file_extension": ".py",
   "mimetype": "text/x-python",
   "name": "python",
   "nbconvert_exporter": "python",
   "pygments_lexer": "ipython3",
   "version": "3.8.5"
  },
  "orig_nbformat": 4,
  "vscode": {
   "interpreter": {
    "hash": "7441139c53f2b833c4015f797d2dbdb1c0994f83a932996f213ed98bc2a18fd3"
   }
  }
 },
 "nbformat": 4,
 "nbformat_minor": 2
}
