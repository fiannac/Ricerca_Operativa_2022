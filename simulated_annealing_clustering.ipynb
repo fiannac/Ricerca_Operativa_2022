{
 "cells": [
  {
   "cell_type": "code",
   "execution_count": null,
   "metadata": {},
   "outputs": [],
   "source": [
    "import numpy as np\n",
    "from random import choices, randrange\n",
    "import random\n",
    "import matplotlib.pyplot as plt\n",
    "from numba import njit\n",
    "from sklearn.datasets import make_blobs\n",
    "from utility import *\n",
    "from tqdm import tqdm"
   ]
  },
  {
   "cell_type": "markdown",
   "metadata": {},
   "source": [
    "# Simulated Annealing\n",
    "\n",
    "Implementazione dell'algoritmo di simulated annealing per la soluzione del problema di clustering.\n",
    "\n",
    "L'algoritmo parte da una soluzione di bassa qualità realizzata tramite un semplice algoritmo che inizializza casualmente i centroidi e che associa ogni punto al cluster con il centroide più vicino.\n",
    "\n",
    "Data una soluzione la soluzione candidato, che viene valutata per ogni iteazione del SA è ottenuta selezionando un nodo casualmente e spostandolo da un cluster ad un altro.\n",
    "\n",
    "La funzione change_sol effettua la mossa sopra descritta per generare la soluzione candidato.\n",
    "\n",
    "La funzione simulated annealing richiede l'inizializzazione di quattro parametri:\n",
    "*   $T_i$ e $T_f$ : rispettivamente la temperatura iniziale e finale dell'algoritmo. La prima regola la probabilità con il quale soluzioni pegiorative sono accettate, l'altra è utilizzata per il criterio d'arresto.\n",
    "*   $\\alpha$ : Il parametro di raffreddamento, tra un'iterazione e la successiva la temperatura è ridotta secondo la seguente legge esponenziale : $T_{k+1} = \\alpha * T_k$.\n",
    "Un parametro di $\\alpha$ prossimo ad 1 garantisce un numero di iterazioni molto grande ma anche delle soluzioni migliori.\n",
    "*   Iter : Numero di iterazioni per una fissata temperatura. All'aumentare di questo parametro il valore di $\\alpha$ deve essere ridotto.\n",
    "\n",
    "L'euristica utilizza come metrica la funzione di squared_inner_distance definita in utiliy.py"
   ]
  },
  {
   "cell_type": "code",
   "execution_count": null,
   "metadata": {},
   "outputs": [],
   "source": [
    "@njit\n",
    "def change_sol(sol, k):\n",
    "    new_sol = sol.copy()\n",
    "    n = randrange(len(new_sol))#ritorna un numero casualmente nel range (0, len(new_sol))\n",
    "    old_value = new_sol[n]\n",
    "\n",
    "    while old_value == new_sol[n]:\n",
    "        new_sol[n] = randrange(K)\n",
    "\n",
    "    return new_sol"
   ]
  },
  {
   "cell_type": "code",
   "execution_count": null,
   "metadata": {},
   "outputs": [],
   "source": [
    "@njit\n",
    "def simulated_annealing(base_sol, points, K, iters, alpha, Ti = 10, Tf = 10**-8, verbose = True):\n",
    "    best_sol = base_sol\n",
    "    base_val = squared_inner_distance(best_sol, points, K)\n",
    "    best_value = base_val\n",
    "    T = Ti\n",
    "    curr_sol = base_sol\n",
    "    curr_val = best_value\n",
    "    \n",
    "    iter = 1\n",
    "    old_sol = base_sol\n",
    "    finito = False\n",
    "    no_update = 0\n",
    "\n",
    "    while(finito == False):\n",
    "        if(verbose and iter%10 == 1):\n",
    "            print(\"Iteration number:\", iter, \"Best value percentuale: \", curr_val/base_val*100, \"% T:\", T, no_update)\n",
    "        \n",
    "        iter = 1 + iter\n",
    "        old_sol = curr_sol\n",
    "        \n",
    "        for i in range(iters):\n",
    "            candidate = change_sol(curr_sol, K)\n",
    "            val_candidate = squared_inner_distance(candidate, points, K)\n",
    "\n",
    "            if(val_candidate < best_value):\n",
    "                best_value = val_candidate#viene memorizzato il best value, perchè potrei perderlo nelle iterazioni successive\n",
    "                best_sol = candidate\n",
    "            \n",
    "            if(val_candidate < curr_val):\n",
    "                curr_val = val_candidate\n",
    "                curr_sol = candidate\n",
    "                no_update = 0\n",
    "            else:\n",
    "                r = random.uniform(0, 1)\n",
    "                delta = abs(curr_val - val_candidate)\n",
    "                tresh = np.exp(-delta/T)\n",
    "                if(r < tresh):\n",
    "                    curr_val = val_candidate\n",
    "                    curr_sol = candidate\n",
    "                    no_update = 0\n",
    "                else:\n",
    "                    no_update += 1\n",
    "\n",
    "        if(no_update >= 10000 or T < Tf):\n",
    "            finito = True\n",
    "            break\n",
    "        \n",
    "        T = alpha*T\n",
    "    return best_sol"
   ]
  },
  {
   "cell_type": "markdown",
   "metadata": {},
   "source": [
    "# Esempio di utilizzo del Simulated annealing\n",
    "\n",
    "Testiamo l'euristica dell'euristica con un istanza di 1000 punti di $R^2$ e un numero di cluster pari K pari a 10.\n",
    "\n",
    "L'insieme di punti su cui è testata l'euristica è generato tramite la funzione make_blobs che genera un insieme di punti di $R^n$ con specifici parametri regolabili.\n",
    "\n",
    "La scelta dei parametri di $T_i$, $T_f$, $\\alpha$, ed Iter è stata fatta sperimentalmente. \n",
    "\n",
    "Abbiamo osservato come all'aumentare del numero di iterazioni la soluzione prodotta dall'euristica migliori drasticamente ma peggiori allo stesso tempo il tempo di esecuzione.\n",
    "Aumentare il numero di iterazioni significa però anche aumentare la durata della fase peggiorativa dell'algoritmo, può quindi essere necessario, all'aumentare di questo paramentro, ridurre la temperatura iniziale."
   ]
  },
  {
   "cell_type": "code",
   "execution_count": null,
   "metadata": {},
   "outputs": [],
   "source": [
    "N = 1000\n",
    "K = 10\n",
    "\n",
    "points, centroids = make_blobs(n_samples=N, centers=K, n_features=2, random_state=np.random.randint(100))\n",
    "\n",
    "sol = create_initial_sol(points, K)\n",
    "sol = simulated_annealing(sol, points, K, 100, 0.99, 100, 0.001)\n",
    "\n",
    "print(\"{:.5E}\".format(squared_inner_distance(sol, points, K)))\n",
    "\n",
    "printR2sol(points, sol, K)"
   ]
  }
 ],
 "metadata": {
  "kernelspec": {
   "display_name": "Python 3.8.5 ('base')",
   "language": "python",
   "name": "python3"
  },
  "language_info": {
   "codemirror_mode": {
    "name": "ipython",
    "version": 3
   },
   "file_extension": ".py",
   "mimetype": "text/x-python",
   "name": "python",
   "nbconvert_exporter": "python",
   "pygments_lexer": "ipython3",
   "version": "3.8.5"
  },
  "orig_nbformat": 4,
  "vscode": {
   "interpreter": {
    "hash": "7441139c53f2b833c4015f797d2dbdb1c0994f83a932996f213ed98bc2a18fd3"
   }
  }
 },
 "nbformat": 4,
 "nbformat_minor": 2
}
